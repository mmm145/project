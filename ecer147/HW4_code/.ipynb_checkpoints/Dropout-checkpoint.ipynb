{
 "cells": [
  {
   "cell_type": "markdown",
   "metadata": {},
   "source": [
    "# Dropout\n",
    "\n",
    "In this notebook, you will implement dropout.  Then we will ask you to train a network with batchnorm and dropout, and acheive over 55% accuracy on CIFAR-10.\n",
    "\n",
    "CS231n has built a solid API for building these modular frameworks and training them, and we will use their very well implemented framework as opposed to \"reinventing the wheel.\"  This includes using their Solver, various utility functions, and their layer structure.  This also includes nndl.fc_net, nndl.layers, and nndl.layer_utils.  As in prior assignments, we thank Serena Yeung & Justin Johnson for permission to use code written for the CS 231n class (cs231n.stanford.edu).  "
   ]
  },
  {
   "cell_type": "code",
   "execution_count": 1,
   "metadata": {
    "collapsed": true
   },
   "outputs": [],
   "source": [
    "## Import and setups\n",
    "\n",
    "import time\n",
    "import numpy as np\n",
    "import matplotlib.pyplot as plt\n",
    "from nndl.fc_net import *\n",
    "from nndl.layers import *\n",
    "\n",
    "from utils.data_utils import get_CIFAR10_data\n",
    "from utils.gradient_check import eval_numerical_gradient, eval_numerical_gradient_array\n",
    "from utils.solver import Solver\n",
    "\n",
    "%matplotlib inline\n",
    "plt.rcParams['figure.figsize'] = (10.0, 8.0) # set default size of plots\n",
    "plt.rcParams['image.interpolation'] = 'nearest'\n",
    "plt.rcParams['image.cmap'] = 'gray'\n",
    "\n",
    "# for auto-reloading external modules\n",
    "# see http://stackoverflow.com/questions/1907993/autoreload-of-modules-in-ipython\n",
    "%load_ext autoreload\n",
    "%autoreload 2\n",
    "\n",
    "def rel_error(x, y):\n",
    "  \"\"\" returns relative error \"\"\"\n",
    "  return np.max(np.abs(x - y) / (np.maximum(1e-8, np.abs(x) + np.abs(y))))"
   ]
  },
  {
   "cell_type": "code",
   "execution_count": 2,
   "metadata": {},
   "outputs": [
    {
     "name": "stdout",
     "output_type": "stream",
     "text": [
      "X_train: (49000, 3, 32, 32) \n",
      "y_train: (49000,) \n",
      "X_val: (1000, 3, 32, 32) \n",
      "y_val: (1000,) \n",
      "X_test: (1000, 3, 32, 32) \n",
      "y_test: (1000,) \n"
     ]
    }
   ],
   "source": [
    "# Load the (preprocessed) CIFAR10 data.\n",
    "\n",
    "data = get_CIFAR10_data()\n",
    "for k in data.keys():\n",
    "  print('{}: {} '.format(k, data[k].shape))"
   ]
  },
  {
   "cell_type": "markdown",
   "metadata": {},
   "source": [
    "## Dropout forward pass\n",
    "\n",
    "Implement the training and test time dropout forward pass, `dropout_forward`, in `nndl/layers.py`. After that, test your implementation by running the following cell."
   ]
  },
  {
   "cell_type": "code",
   "execution_count": 4,
   "metadata": {},
   "outputs": [
    {
     "name": "stdout",
     "output_type": "stream",
     "text": [
      "Running tests with p =  0.3\n",
      "Mean of input:  9.999603946302388\n",
      "Mean of train-time output:  10.001785156842566\n",
      "Mean of test-time output:  9.999603946302388\n",
      "Fraction of train-time output set to zero:  0.29988\n",
      "Fraction of test-time output set to zero:  0.0\n",
      "Running tests with p =  0.6\n",
      "Mean of input:  9.999603946302388\n",
      "Mean of train-time output:  9.96403804218758\n",
      "Mean of test-time output:  9.999603946302388\n",
      "Fraction of train-time output set to zero:  0.601468\n",
      "Fraction of test-time output set to zero:  0.0\n",
      "Running tests with p =  0.75\n",
      "Mean of input:  9.999603946302388\n",
      "Mean of train-time output:  9.985514328930833\n",
      "Mean of test-time output:  9.999603946302388\n",
      "Fraction of train-time output set to zero:  0.750388\n",
      "Fraction of test-time output set to zero:  0.0\n"
     ]
    }
   ],
   "source": [
    "x = np.random.randn(500, 500) + 10\n",
    "\n",
    "for p in [0.3, 0.6, 0.75]:\n",
    "  out, _ = dropout_forward(x, {'mode': 'train', 'p': p})\n",
    "  out_test, _ = dropout_forward(x, {'mode': 'test', 'p': p})\n",
    "\n",
    "  print('Running tests with p = ', p)\n",
    "  print('Mean of input: ', x.mean())\n",
    "  print('Mean of train-time output: ', out.mean())\n",
    "  print('Mean of test-time output: ', out_test.mean())\n",
    "  print('Fraction of train-time output set to zero: ', (out == 0).mean())\n",
    "  print('Fraction of test-time output set to zero: ', (out_test == 0).mean())"
   ]
  },
  {
   "cell_type": "markdown",
   "metadata": {},
   "source": [
    "## Dropout backward pass\n",
    "\n",
    "Implement the backward pass, `dropout_backward`, in `nndl/layers.py`.  After that, test your gradients by running the following cell:"
   ]
  },
  {
   "cell_type": "code",
   "execution_count": 5,
   "metadata": {},
   "outputs": [
    {
     "name": "stdout",
     "output_type": "stream",
     "text": [
      "dx relative error:  1.8929034741966674e-11\n"
     ]
    }
   ],
   "source": [
    "x = np.random.randn(10, 10) + 10\n",
    "dout = np.random.randn(*x.shape)\n",
    "\n",
    "dropout_param = {'mode': 'train', 'p': 0.8, 'seed': 123}\n",
    "out, cache = dropout_forward(x, dropout_param)\n",
    "dx = dropout_backward(dout, cache)\n",
    "dx_num = eval_numerical_gradient_array(lambda xx: dropout_forward(xx, dropout_param)[0], x, dout)\n",
    "\n",
    "print('dx relative error: ', rel_error(dx, dx_num))"
   ]
  },
  {
   "cell_type": "markdown",
   "metadata": {},
   "source": [
    "## Implement a fully connected neural network with dropout layers\n",
    "\n",
    "Modify the `FullyConnectedNet()` class in `nndl/fc_net.py` to incorporate dropout.  A dropout layer should be incorporated after every ReLU layer.  Concretely, there shouldn't be a dropout at the output layer since there is no ReLU at the output layer. You will need to modify the class in the following areas:\n",
    "\n",
    "(1) In the forward pass, you will need to incorporate a dropout layer after every relu layer.\n",
    "\n",
    "(2) In the backward pass, you will need to incorporate a dropout backward pass layer.\n",
    "\n",
    "Check your implementation by running the following code.  Our W1 gradient relative error is on the order of 1e-6 (the largest of all the relative errors)."
   ]
  },
  {
   "cell_type": "code",
   "execution_count": 6,
   "metadata": {},
   "outputs": [
    {
     "name": "stdout",
     "output_type": "stream",
     "text": [
      "Running check with dropout =  0\n",
      "Initial loss:  2.3051948273987857\n",
      "W1 relative error: 2.527257850057074e-07\n",
      "W2 relative error: 1.5034484939543329e-05\n",
      "W3 relative error: 2.7534468292587336e-07\n",
      "b1 relative error: 2.9369574314135645e-06\n",
      "b2 relative error: 5.0513404721380335e-08\n",
      "b3 relative error: 1.1740467838205477e-10\n",
      "\n",
      "\n",
      "Running check with dropout =  0.25\n",
      "Initial loss:  2.3052077546540826\n",
      "W1 relative error: 2.613847267115114e-07\n",
      "W2 relative error: 5.022056515881875e-07\n",
      "W3 relative error: 4.45631569106659e-08\n",
      "b1 relative error: 7.397117520715654e-08\n",
      "b2 relative error: 7.151679404650099e-10\n",
      "b3 relative error: 1.003974732116764e-10\n",
      "\n",
      "\n",
      "Running check with dropout =  0.5\n",
      "Initial loss:  2.3035667586595423\n",
      "W1 relative error: 1.14012571152452e-06\n",
      "W2 relative error: 1.8476691728499527e-07\n",
      "W3 relative error: 6.59661943889964e-09\n",
      "b1 relative error: 7.716396514582096e-08\n",
      "b2 relative error: 1.1975910493629166e-09\n",
      "b3 relative error: 1.4558471033827801e-10\n",
      "\n",
      "\n"
     ]
    }
   ],
   "source": [
    "N, D, H1, H2, C = 2, 15, 20, 30, 10\n",
    "X = np.random.randn(N, D)\n",
    "y = np.random.randint(C, size=(N,))\n",
    "\n",
    "for dropout in [0, 0.25, 0.5]:\n",
    "  print('Running check with dropout = ', dropout)\n",
    "  model = FullyConnectedNet([H1, H2], input_dim=D, num_classes=C,\n",
    "                            weight_scale=5e-2, dtype=np.float64,\n",
    "                            dropout=dropout, seed=123)\n",
    "\n",
    "  loss, grads = model.loss(X, y)\n",
    "  print('Initial loss: ', loss)\n",
    "\n",
    "  for name in sorted(grads):\n",
    "    f = lambda _: model.loss(X, y)[0]\n",
    "    grad_num = eval_numerical_gradient(f, model.params[name], verbose=False, h=1e-5)\n",
    "    print('{} relative error: {}'.format(name, rel_error(grad_num, grads[name])))\n",
    "  print('\\n')"
   ]
  },
  {
   "cell_type": "markdown",
   "metadata": {},
   "source": [
    "## Dropout as a regularizer\n",
    "\n",
    "In class, we claimed that dropout acts as a regularizer by effectively bagging.  To check this, we will train two small networks, one with dropout and one without dropout.  "
   ]
  },
  {
   "cell_type": "code",
   "execution_count": 7,
   "metadata": {},
   "outputs": [
    {
     "name": "stdout",
     "output_type": "stream",
     "text": [
      "(Iteration 1 / 125) loss: 2.300804\n",
      "(Epoch 0 / 25) train acc: 0.224000; val_acc: 0.167000\n",
      "(Epoch 1 / 25) train acc: 0.182000; val_acc: 0.146000\n",
      "(Epoch 2 / 25) train acc: 0.258000; val_acc: 0.190000\n",
      "(Epoch 3 / 25) train acc: 0.324000; val_acc: 0.260000\n",
      "(Epoch 4 / 25) train acc: 0.372000; val_acc: 0.272000\n",
      "(Epoch 5 / 25) train acc: 0.428000; val_acc: 0.299000\n",
      "(Epoch 6 / 25) train acc: 0.450000; val_acc: 0.320000\n",
      "(Epoch 7 / 25) train acc: 0.474000; val_acc: 0.286000\n",
      "(Epoch 8 / 25) train acc: 0.540000; val_acc: 0.318000\n",
      "(Epoch 9 / 25) train acc: 0.558000; val_acc: 0.319000\n",
      "(Epoch 10 / 25) train acc: 0.614000; val_acc: 0.320000\n",
      "(Epoch 11 / 25) train acc: 0.628000; val_acc: 0.265000\n",
      "(Epoch 12 / 25) train acc: 0.722000; val_acc: 0.333000\n",
      "(Epoch 13 / 25) train acc: 0.744000; val_acc: 0.316000\n",
      "(Epoch 14 / 25) train acc: 0.768000; val_acc: 0.308000\n",
      "(Epoch 15 / 25) train acc: 0.802000; val_acc: 0.297000\n",
      "(Epoch 16 / 25) train acc: 0.858000; val_acc: 0.324000\n",
      "(Epoch 17 / 25) train acc: 0.876000; val_acc: 0.316000\n",
      "(Epoch 18 / 25) train acc: 0.906000; val_acc: 0.313000\n",
      "(Epoch 19 / 25) train acc: 0.910000; val_acc: 0.293000\n",
      "(Epoch 20 / 25) train acc: 0.942000; val_acc: 0.305000\n",
      "(Iteration 101 / 125) loss: 0.189855\n",
      "(Epoch 21 / 25) train acc: 0.966000; val_acc: 0.300000\n",
      "(Epoch 22 / 25) train acc: 0.976000; val_acc: 0.303000\n",
      "(Epoch 23 / 25) train acc: 0.972000; val_acc: 0.285000\n",
      "(Epoch 24 / 25) train acc: 0.990000; val_acc: 0.287000\n",
      "(Epoch 25 / 25) train acc: 0.990000; val_acc: 0.304000\n",
      "(Iteration 1 / 125) loss: 2.298716\n",
      "(Epoch 0 / 25) train acc: 0.132000; val_acc: 0.149000\n",
      "(Epoch 1 / 25) train acc: 0.130000; val_acc: 0.129000\n",
      "(Epoch 2 / 25) train acc: 0.204000; val_acc: 0.201000\n",
      "(Epoch 3 / 25) train acc: 0.218000; val_acc: 0.197000\n",
      "(Epoch 4 / 25) train acc: 0.224000; val_acc: 0.183000\n",
      "(Epoch 5 / 25) train acc: 0.262000; val_acc: 0.231000\n",
      "(Epoch 6 / 25) train acc: 0.260000; val_acc: 0.211000\n",
      "(Epoch 7 / 25) train acc: 0.266000; val_acc: 0.206000\n",
      "(Epoch 8 / 25) train acc: 0.286000; val_acc: 0.238000\n",
      "(Epoch 9 / 25) train acc: 0.308000; val_acc: 0.254000\n",
      "(Epoch 10 / 25) train acc: 0.308000; val_acc: 0.261000\n",
      "(Epoch 11 / 25) train acc: 0.318000; val_acc: 0.264000\n",
      "(Epoch 12 / 25) train acc: 0.348000; val_acc: 0.277000\n",
      "(Epoch 13 / 25) train acc: 0.334000; val_acc: 0.258000\n",
      "(Epoch 14 / 25) train acc: 0.342000; val_acc: 0.274000\n",
      "(Epoch 15 / 25) train acc: 0.374000; val_acc: 0.278000\n",
      "(Epoch 16 / 25) train acc: 0.394000; val_acc: 0.281000\n",
      "(Epoch 17 / 25) train acc: 0.394000; val_acc: 0.289000\n",
      "(Epoch 18 / 25) train acc: 0.382000; val_acc: 0.275000\n",
      "(Epoch 19 / 25) train acc: 0.378000; val_acc: 0.271000\n",
      "(Epoch 20 / 25) train acc: 0.376000; val_acc: 0.279000\n",
      "(Iteration 101 / 125) loss: 1.882655\n",
      "(Epoch 21 / 25) train acc: 0.424000; val_acc: 0.281000\n",
      "(Epoch 22 / 25) train acc: 0.430000; val_acc: 0.286000\n",
      "(Epoch 23 / 25) train acc: 0.458000; val_acc: 0.296000\n",
      "(Epoch 24 / 25) train acc: 0.478000; val_acc: 0.304000\n",
      "(Epoch 25 / 25) train acc: 0.508000; val_acc: 0.308000\n"
     ]
    }
   ],
   "source": [
    "# Train two identical nets, one with dropout and one without\n",
    "\n",
    "num_train = 500\n",
    "small_data = {\n",
    "  'X_train': data['X_train'][:num_train],\n",
    "  'y_train': data['y_train'][:num_train],\n",
    "  'X_val': data['X_val'],\n",
    "  'y_val': data['y_val'],\n",
    "}\n",
    "\n",
    "solvers = {}\n",
    "dropout_choices = [0, 0.6]\n",
    "for dropout in dropout_choices:\n",
    "  model = FullyConnectedNet([100, 100, 100], dropout=dropout)\n",
    "\n",
    "  solver = Solver(model, small_data,\n",
    "                  num_epochs=25, batch_size=100,\n",
    "                  update_rule='adam',\n",
    "                  optim_config={\n",
    "                    'learning_rate': 5e-4,\n",
    "                  },\n",
    "                  verbose=True, print_every=100)\n",
    "  solver.train()\n",
    "  solvers[dropout] = solver"
   ]
  },
  {
   "cell_type": "code",
   "execution_count": 8,
   "metadata": {},
   "outputs": [
    {
     "data": {
      "image/png": "[encoded data removed]",
      "text/plain": [
       "<Figure size 1500x1500 with 2 Axes>"
      ]
     },
     "metadata": {},
     "output_type": "display_data"
    }
   ],
   "source": [
    "# Plot train and validation accuracies of the two models\n",
    "\n",
    "train_accs = []\n",
    "val_accs = []\n",
    "for dropout in dropout_choices:\n",
    "  solver = solvers[dropout]\n",
    "  train_accs.append(solver.train_acc_history[-1])\n",
    "  val_accs.append(solver.val_acc_history[-1])\n",
    "\n",
    "plt.subplot(3, 1, 1)\n",
    "for dropout in dropout_choices:\n",
    "  plt.plot(solvers[dropout].train_acc_history, 'o', label='%.2f dropout' % dropout)\n",
    "plt.title('Train accuracy')\n",
    "plt.xlabel('Epoch')\n",
    "plt.ylabel('Accuracy')\n",
    "plt.legend(ncol=2, loc='lower right')\n",
    "  \n",
    "plt.subplot(3, 1, 2)\n",
    "for dropout in dropout_choices:\n",
    "  plt.plot(solvers[dropout].val_acc_history, 'o', label='%.2f dropout' % dropout)\n",
    "plt.title('Val accuracy')\n",
    "plt.xlabel('Epoch')\n",
    "plt.ylabel('Accuracy')\n",
    "plt.legend(ncol=2, loc='lower right')\n",
    "\n",
    "plt.gcf().set_size_inches(15, 15)\n",
    "plt.show()"
   ]
  },
  {
   "cell_type": "markdown",
   "metadata": {},
   "source": [
    "## Question\n",
    "\n",
    "Based off the results of this experiment, is dropout performing regularization?  Explain your answer."
   ]
  },
  {
   "cell_type": "markdown",
   "metadata": {},
   "source": [
    "## Answer:\n",
    "\n",
    "thanks to drop out the train accuracy reduces while the test accuracy is kind of similar at the end, which shows drop out works as regularization. "
   ]
  },
  {
   "cell_type": "markdown",
   "metadata": {},
   "source": [
    "## Final part of the assignment\n",
    "\n",
    "Get over 55% validation accuracy on CIFAR-10 by using the layers you have implemented.  You will be graded according to the following equation:\n",
    "\n",
    "min(floor((X - 32%)) / 28%, 1) \n",
    "where if you get 60% or higher validation accuracy, you get full points."
   ]
  },
  {
   "cell_type": "code",
   "execution_count": null,
   "metadata": {
    "scrolled": false
   },
   "outputs": [
    {
     "name": "stdout",
     "output_type": "stream",
     "text": [
      "(Iteration 1 / 15300) loss: 27.244720\n",
      "(Epoch 0 / 20) train acc: 0.106000; val_acc: 0.125000\n",
      "(Iteration 101 / 15300) loss: 13.456448\n",
      "(Iteration 201 / 15300) loss: 7.342916\n",
      "(Iteration 301 / 15300) loss: 4.574592\n",
      "(Iteration 401 / 15300) loss: 3.682604\n",
      "(Iteration 501 / 15300) loss: 2.894230\n",
      "(Iteration 601 / 15300) loss: 2.828734\n",
      "(Iteration 701 / 15300) loss: 2.665517\n",
      "(Epoch 1 / 20) train acc: 0.408000; val_acc: 0.399000\n",
      "(Iteration 801 / 15300) loss: 2.318063\n",
      "(Iteration 901 / 15300) loss: 2.296552\n",
      "(Iteration 1001 / 15300) loss: 2.357780\n",
      "(Iteration 1101 / 15300) loss: 2.096701\n",
      "(Iteration 1201 / 15300) loss: 2.201644\n",
      "(Iteration 1301 / 15300) loss: 2.200878\n",
      "(Iteration 1401 / 15300) loss: 2.315096\n",
      "(Iteration 1501 / 15300) loss: 2.389354\n",
      "(Epoch 2 / 20) train acc: 0.433000; val_acc: 0.438000\n",
      "(Iteration 1601 / 15300) loss: 2.187736\n",
      "(Iteration 1701 / 15300) loss: 2.230244\n",
      "(Iteration 1801 / 15300) loss: 2.041082\n",
      "(Iteration 1901 / 15300) loss: 2.108464\n",
      "(Iteration 2001 / 15300) loss: 2.005621\n",
      "(Iteration 2101 / 15300) loss: 2.004717\n",
      "(Iteration 2201 / 15300) loss: 2.109574\n",
      "(Epoch 3 / 20) train acc: 0.450000; val_acc: 0.423000\n",
      "(Iteration 2301 / 15300) loss: 2.504690\n",
      "(Iteration 2401 / 15300) loss: 2.178381\n",
      "(Iteration 2501 / 15300) loss: 2.106048\n",
      "(Iteration 2601 / 15300) loss: 2.036814\n",
      "(Iteration 2701 / 15300) loss: 2.103643\n",
      "(Iteration 2801 / 15300) loss: 2.040016\n",
      "(Iteration 2901 / 15300) loss: 2.068069\n",
      "(Iteration 3001 / 15300) loss: 2.185013\n",
      "(Epoch 4 / 20) train acc: 0.416000; val_acc: 0.445000\n",
      "(Iteration 3101 / 15300) loss: 2.239988\n",
      "(Iteration 3201 / 15300) loss: 2.128341\n",
      "(Iteration 3301 / 15300) loss: 2.175171\n",
      "(Iteration 3401 / 15300) loss: 2.220317\n",
      "(Iteration 3501 / 15300) loss: 2.085978\n",
      "(Iteration 3601 / 15300) loss: 2.070220\n",
      "(Iteration 3701 / 15300) loss: 2.143116\n",
      "(Iteration 3801 / 15300) loss: 2.006960\n",
      "(Epoch 5 / 20) train acc: 0.434000; val_acc: 0.433000\n",
      "(Iteration 3901 / 15300) loss: 2.087735\n",
      "(Iteration 4001 / 15300) loss: 2.143587\n"
     ]
    }
   ],
   "source": [
    "# ================================================================ #\n",
    "# YOUR CODE HERE:\n",
    "#   Implement a FC-net that achieves at least 60% validation accuracy\n",
    "#   on CIFAR-10.\n",
    "# ================================================================ #\n",
    "\n",
    "model = FullyConnectedNet([1024,1024,512,512], dropout = 0.4, use_batchnorm=True, reg = 0.1)\n",
    "\n",
    "solver = Solver(model, data, update_rule=\"adam\",optim_config = {\"learning_rate\":1e-4},lr_decay = 0.95, num_epochs=20, batch_size =64,print_every=100)\n",
    "solver.train()\n",
    "\n",
    "\n",
    "# ================================================================ #\n",
    "# END YOUR CODE HERE\n",
    "# ================================================================ #\n"
   ]
  }
 ],
 "metadata": {
  "kernelspec": {
   "display_name": "life",
   "language": "python",
   "name": "python3"
  },
  "language_info": {
   "codemirror_mode": {
    "name": "ipython",
    "version": 3
   },
   "file_extension": ".py",
   "mimetype": "text/x-python",
   "name": "python",
   "nbconvert_exporter": "python",
   "pygments_lexer": "ipython3",
   "version": "3.12.8"
  }
 },
 "nbformat": 4,
 "nbformat_minor": 2
}
