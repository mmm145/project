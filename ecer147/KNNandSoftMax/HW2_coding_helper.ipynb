{
  "cells": [
    {
      "cell_type": "markdown",
      "metadata": {
        "id": "Ai-jFkE5gEdp"
      },
      "source": [
        "## Content:\n",
        "\n",
        "\n",
        "\n",
        "*   Introduction to Broadcasting and Rules of Broadcasting\n",
        "*   How to calculate pair-wise dot products between rows of M1 and rows of M2 all at once without any loop\n",
        "*   How to calculate pair-wise difference between entries of vector v1 (n-dim) and entries of vector v2 (m-dim)\n",
        "*   How to calculate the row-wise squared 2-norms for a matrix M (n x m)\n",
        "*   Hint for Vectorising K-means distance calculation\n",
        "*   Hints for K-fold dataset creation and usage\n",
        "\n",
        "Reference:\n",
        "\n",
        "[1] https://jakevdp.github.io/PythonDataScienceHandbook/02.05-computation-on-arrays-broadcasting.html\n",
        "\n",
        "[2] https://numpy.org/doc/stable/index.html\n",
        "\n",
        "[3] https://www.pythonlikeyoumeanit.com/index.html\n"
      ]
    },
    {
      "cell_type": "code",
      "execution_count": 1,
      "metadata": {
        "id": "YcX3ZhBGgEdq"
      },
      "outputs": [],
      "source": [
        "import numpy as np"
      ]
    },
    {
      "cell_type": "markdown",
      "metadata": {
        "id": "nBAqVcnegEdr"
      },
      "source": [
        "## Introducing Broadcasting\n",
        "\n",
        "Recall that for arrays of the same size, binary operations are performed on an element-by-element basis:"
      ]
    },
    {
      "cell_type": "code",
      "execution_count": 15,
      "metadata": {
        "colab": {
          "base_uri": "https://localhost:8080/"
        },
        "id": "7UAFItzAgEdr",
        "outputId": "cba7c359-03e1-4f27-f08f-11488671606c"
      },
      "outputs": [
        {
          "name": "stdout",
          "output_type": "stream",
          "text": [
            "a shape: (3,)\n",
            "a + 5: [5 6 7]\n",
            "b shape: (3,)\n",
            "a + b: [5 6 7]\n"
          ]
        }
      ],
      "source": [
        "a = np.array([0, 1, 2])\n",
        "print(\"a shape:\", a.shape)\n",
        "print(\"a + 5:\", a + 5)\n",
        "\n",
        "b = np.array([5, 5, 5])\n",
        "print(\"b shape:\", b.shape)\n",
        "print(\"a + b:\", a + b)"
      ]
    },
    {
      "cell_type": "code",
      "execution_count": 18,
      "metadata": {
        "colab": {
          "base_uri": "https://localhost:8080/",
          "height": 176
        },
        "id": "7esHyBY4KLpL",
        "outputId": "865c0567-0618-4a5a-f210-3bba9c6e148b"
      },
      "outputs": [
        {
          "ename": "ValueError",
          "evalue": "operands could not be broadcast together with shapes (1,3) (1,2) ",
          "output_type": "error",
          "traceback": [
            "\u001b[0;31m---------------------------------------------------------------------------\u001b[0m",
            "\u001b[0;31mValueError\u001b[0m                                Traceback (most recent call last)",
            "\u001b[0;32m<ipython-input-18-8e1aa3b95140>\u001b[0m in \u001b[0;36m<cell line: 0>\u001b[0;34m()\u001b[0m\n\u001b[1;32m      1\u001b[0m \u001b[0mc\u001b[0m \u001b[0;34m=\u001b[0m \u001b[0mnp\u001b[0m\u001b[0;34m.\u001b[0m\u001b[0marray\u001b[0m\u001b[0;34m(\u001b[0m\u001b[0;34m[\u001b[0m\u001b[0;36m5\u001b[0m\u001b[0;34m,\u001b[0m\u001b[0;36m5\u001b[0m\u001b[0;34m]\u001b[0m\u001b[0;34m)\u001b[0m\u001b[0;34m\u001b[0m\u001b[0;34m\u001b[0m\u001b[0m\n\u001b[1;32m      2\u001b[0m \u001b[0;34m\u001b[0m\u001b[0m\n\u001b[0;32m----> 3\u001b[0;31m \u001b[0ma\u001b[0m\u001b[0;34m.\u001b[0m\u001b[0mreshape\u001b[0m\u001b[0;34m(\u001b[0m\u001b[0;36m1\u001b[0m\u001b[0;34m,\u001b[0m\u001b[0;36m3\u001b[0m\u001b[0;34m)\u001b[0m \u001b[0;34m+\u001b[0m \u001b[0mc\u001b[0m\u001b[0;34m.\u001b[0m\u001b[0mreshape\u001b[0m\u001b[0;34m(\u001b[0m\u001b[0;36m1\u001b[0m\u001b[0;34m,\u001b[0m\u001b[0;36m2\u001b[0m\u001b[0;34m)\u001b[0m\u001b[0;34m\u001b[0m\u001b[0;34m\u001b[0m\u001b[0m\n\u001b[0m",
            "\u001b[0;31mValueError\u001b[0m: operands could not be broadcast together with shapes (1,3) (1,2) "
          ]
        }
      ],
      "source": [
        "c = np.array([5,5])\n",
        "\n",
        "\n",
        "a.reshape(1,3) + c.reshape(1,2)"
      ]
    },
    {
      "cell_type": "markdown",
      "metadata": {
        "id": "mIMSdq7pgEds"
      },
      "source": [
        "## Broadcasting allows these types of binary operations to be performed on arrays of different sizes\n",
        "For example, we can just as easily add a scalar (think of it as a zero-dimensional array) to an array:\n",
        "\n",
        "![Capture1.PNG](data:image/png;base64,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)"
      ]
    },
    {
      "cell_type": "markdown",
      "metadata": {
        "id": "PaD87gwsgEdw"
      },
      "source": [
        "## Extend to higher dimension"
      ]
    },
    {
      "cell_type": "code",
      "execution_count": 19,
      "metadata": {
        "colab": {
          "base_uri": "https://localhost:8080/"
        },
        "id": "9qOAUM55ZIYd",
        "outputId": "f5d5aae5-3d25-47c8-a725-acd0ac694eb2"
      },
      "outputs": [
        {
          "name": "stdout",
          "output_type": "stream",
          "text": [
            "[[1. 1. 1.]\n",
            " [1. 1. 1.]\n",
            " [1. 1. 1.]]\n",
            "M shape: (3, 3)\n"
          ]
        }
      ],
      "source": [
        "M = np.ones((3, 3))\n",
        "print(M)\n",
        "print(\"M shape:\",M.shape)"
      ]
    },
    {
      "cell_type": "code",
      "execution_count": 20,
      "metadata": {
        "colab": {
          "base_uri": "https://localhost:8080/"
        },
        "id": "yk8YbArTKxwp",
        "outputId": "5e99a50f-c5e6-4137-8337-67a686201f82"
      },
      "outputs": [
        {
          "data": {
            "text/plain": [
              "array([0, 1, 2])"
            ]
          },
          "execution_count": 20,
          "metadata": {},
          "output_type": "execute_result"
        }
      ],
      "source": [
        "a"
      ]
    },
    {
      "cell_type": "code",
      "execution_count": 22,
      "metadata": {
        "colab": {
          "base_uri": "https://localhost:8080/"
        },
        "id": "ni6cZ0HRKzKH",
        "outputId": "8a99fe9c-f263-41af-bfab-b35c677a1fe6"
      },
      "outputs": [
        {
          "data": {
            "text/plain": [
              "(3,)"
            ]
          },
          "execution_count": 22,
          "metadata": {},
          "output_type": "execute_result"
        }
      ],
      "source": [
        "a.shape"
      ]
    },
    {
      "cell_type": "code",
      "execution_count": 27,
      "metadata": {
        "colab": {
          "base_uri": "https://localhost:8080/"
        },
        "id": "OXngMsszaOYv",
        "outputId": "5d9b8217-9bc9-4993-fd07-e79759af4b9b"
      },
      "outputs": [
        {
          "data": {
            "text/plain": [
              "array([[1., 2., 3.],\n",
              "       [1., 2., 3.],\n",
              "       [1., 2., 3.]])"
            ]
          },
          "execution_count": 27,
          "metadata": {},
          "output_type": "execute_result"
        }
      ],
      "source": [
        "M + a"
      ]
    },
    {
      "cell_type": "markdown",
      "metadata": {
        "id": "UGnv2vhuZT3l"
      },
      "source": [
        "## Add a one-dimensional array to a two-dimensional array\n",
        "\n",
        "![Capture2.PNG](data:image/png;base64,iVBORw0KGgoAAAANSUhEUgAAAmEAAAC0CAYAAADcmfv+AAAAAXNSR0IArs4c6QAAAARnQU1BAACxjwv8YQUAAAAJcEhZcwAAFiUAABYlAUlSJPAAAEbBSURBVHhe7Z151BXFmf9//8yJ5yR/jHF0dDSeRKKJRkwcl8mckwmYYaJCFBAZ1Iii7CCrihsQQQ2oIK6IEDcWUUAJi4KCgrtGZR1cUIxLXMAl4jIymrF+5/P4FtNeurm3u+rtru73+ZxTB96+fe+t+3RVPd9+nuqq/2cUZ/72t7+ZL7/80nz11VdNR/4PjvHa//7v/zYdUZRsaFtSFEWpFirCPPDJJ5+Y9957TxxkLRzjNc5RFBe0LSmKolQLFWEOEAHDIb766qvmv/7rv8x///d/N73yNdu2bTNbtmwxa9euNW+99VbT0eaH7/3www+lXu+//37T0eTjSvhkaUtEzD799FPz9ttvm9dee838z//8T9MriqIoSgioCHMAx7hx40bzpz/9yTzzzDPi8KJs3rzZrFmzxjz22GPiBHGKCDWE29atW0UQUT7++ONUKaZ6n0M9+L7ly5eb559/3nzxxReSyko6roRPbVuyIKy4rlz7v/71r+aDDz6Qf2mbRM74e9WqVWbFihXyf24cFEVRlDBQEeYAwmfOnDnmiSeeEEdYK6SeffZZc+edd5o333xTnCXCiUjGo48+ah544AFz1113mXnz5pmVK1eKE22Uep9DPagbrz355JMSCUFwJR1Xwqe2LVn4m/bHtV+4cKGcs2DBAvPSSy9tn0NGlPa+++4zL774ovnoo4+a3qkoiqIUjYqwjHz22Wdm06ZNZtasWRIFi0K0AbHz8MMPi1O0EYg33njDXHnllfKe9evXy/umTZtmLrnkEvPyyy9L9KIejX6OjdLhnJctWyYRM0g6Xg9+w+uvv64prZyJa0uAwEJAL1myxPz+9783jz/+uFm9erW5//77zciRI838+fO33xgQRUPELVq0SCKgiqIoShioCMsI83KIJhF92LBhQ9PRryFSxTHSfkSdEDo4zBdeeMH07dvXTJ8+XSIUOMipU6eaLl26yGc1Ioga/RwbBaEO1113nXn33XflWNLxehBFeeihh1JF7BR34toScM157dZbbzX9+vUzr7zyigg2/u3WrZuZOHGiXFsbAaW9cr25hvytKIqiFI+KsIwwP4c04NNPPy3OLgpzckgJEZVAvHz++ecidBAwTz31lETQrPC56aabTOfOnSWl1IgIS/M5vIbznjRpkkSxbOox6fjOIJJC6pWojJIfcW3JgpiiDdAWmB/IdeXv//zP/5RIqRVhwP+vueYas3TpUvkMFWKKoijFoyIsI0x0vvbaayW1R2oyCumfG264Qebh4ESJUAD/MieHCAbRKM5DPBHJINrRSDoS0nwOooxUJZOzbSoLko4ngdgk/dnIuYo/ktqShTZgjyPOEctESYmQIcys2OJp2Ntvv93ce++9ks7WtLKiKErxZBJhOH4GdSYF//nPfzZ/+ctftpd33nlHBv/oOSyJED2H1AjRmlqHEgdOhLktPJ7PZ/F+7uqt4+E1vpN6ENXhszmPf6Nrd/E5iCWO8TqOiInpiIraevCZOD8+g+/jXD6fc/k8Ig7MrxkzZoycUwufy2ucYyNVURBJfD7zeP7whz9IhIK/09LI56xbt04iWKSyuA6WpONJNCrC8mwbRHloC3yOLbQTKz4QKPZ7KHy2vab8ja2iAprv5bh9nXNpZ9i5kd9l4Xzex/tpOxTeZ9snr9MuGmmT9doS2D5CmvqPf/yjzBF78MEHm179GkQ7Aoz0OdeS8xVFUZRiySTCcEYzZ84055xzjjn99NPNBRdcYC688EJz/vnnb58kHD3ntNNOM+edd972c0aNGiUTinFc9ZwtzoIlIIj08Fm8/6qrrhJngqMjFTNu3DhzxhlnmLPOOsuMHj1avut3v/udueWWW8TBAc6OFOLNN99szj77bDNs2DCZyB6d7GwhmnD99dfLZ/BZw4cPNz179pTfw+/CIZMi4nfgVGvhGK9xThw4cRzi5ZdfLsImbo2xRmjkc4jUYau5c+fK65ak40k0KsLybBuIH+Y+8X4Kn3fjjTdKlI/3MwmdeXP29YsvvlgKdeLvq6++evtDFQgcBKk999xzz5Xrf88990iKr5HfZUFYcu1pi7Qz2g/vGzRokPw+5m0hIBtpk/XaEtg+QvSLNCTzvmrbJVEyJvczYZ+UZCOpb0VRFKV5ySTCGPQRPzyF1aFDBxFBpDpwAkOGDJHlEnBaTBLnnOOOO07mH91xxx1m9uzZ4vwQSPUmejN3BQeIICIlwxysu+++WyahM8kYsYQT5TOZD0U6DrGGExs/frx8N+/HISNYpkyZIp9DPfgs0ok4reeee07mOuGIcY6IE5ww38NnWUfO7+I8xAERh4suukgiIbVwjNc4Jw5sQyQKsYHd+HyiIERI0tDI5/C7mU80Y8YMST1ako4j4hA32BYxYwvX69JLL5X3RI/zdCYO3849yqttAJEs2gHXlM/lWiHQJ0yYsD0C9cgjj4gwQ6CffPLJ8l38Zs4nxYcgsvCdl112mdSFKCH1QEhhX667rXPS78J2pPl46pTP4XpwDnU688wzpU3Qfm0ErpE2adsS4ikJvpPPQggiqvm9/G6uBVEysEINUUnhBkZRFEUpFqc5Ybfddps4NpwUjpuUCnf9HLdihf93795dHBgpEZwB/8fxEEHgfUngrFmccujQoeIUbSoQB4OjxXER7cABEQlDeJGSQbzhjHCOiBTqxef06dNHBB3LOOCgcXrWMSLWbAoLJ0WUA6dGVIMJ0Thu1uVC0HEeTpFzkkQYr0UdJyKF6APpJf7lM6gnjr5Hjx6yZAS/tx5pP4ffSWoKMYCwsiQd5xphQ+zHtaMgNEiJDR482EyePHn7Mf4lEocQq43A8Vpztg1ASCCYubYIQa4VgufUU0+VCBN1otAGxo4da7p27SpCC/tgN4RQdG4Ua69x7WkfpA5pZ6eccor8Zupn61z7u4hicZzPpX1wLWhrtCkisbQj2iIike+jDRPpaqRNxrUlsG2Vz6cetAsKbbVXr14iNukXVpDzWxHbfA7XlmugKIqiFIuzCMPx47RxADikESNGyHHm5iCa+D8CifQXTszOrWEOE04dx5METhUne8UVV8hEeDsnhoUoiTwQNcDBWRHGRHP75BdODOfI2kl2/hOP7uOgqSORLSJnOEHqyG8A3kt0BHFBHflu0lI2ImLTZES5iIrUpn2AY7wWjYRxjCcSEQNEk4DvwjETJaHujaQF034OtiHNRioRW1iSjvPbsCFOmutkC+cSGUQsRI8jThAD1CFKc7cNQIRiC+pFGg+xctJJJ4nYIn3KtbIiDCHFNaFN8T1AnW2bAuqKHUlxcs1JH/7qV78SQYPYsXWO/i5EEm0JMUuEi+gd9edacA6/G+FHW0QA2e/D/o20ST6/ti0BvwvxixgmcoYQ47MRj9y02PbK9QEbCaMOFI2EKYqiFI+zCMOJ4lDAOiSO45Cs08LJkLrCIeDgiV6RMuGOn/dwt27FTRQEB84fJ7R48WJ5HUdDqgaxQeqRKI4VYXyXhYgGjo+7f0QbDon5R8zhsWlNHBj14LNtJIz62RQWQoz3cS5pIz6TaAkOkNdIzyEUautNlIp0FJOpsQF1ZqsZ/mZOkhVPgAjCPtSdKAafhSOnHnHU+xx+E87bgmiirvyG6HpmSceTSPt0pK+2AdiE9hG1CSKCa4EAY06VFRcIMb4XwYEdrQjjHAR1XHSN6BTfhT1Ib9I+uNa8B5FEZC5a59rfRZuyIozv4xzex+/gOKKMf4nOWWgjjbTJuLYEiCpS8fSB6O+iffTv31/mkRHptCld7Eck1y53gYBVFEVRiiWTCMMZELHAYZGuwUETKcCBknbhKT3+TwoEp3LiiSduT3shNIgA4NhwVnwOjgyHimPlsy04EKI0OClSPESouNPH2eKYcCg4WD73t7/9rXwvzogoDunDAQMGiMMh0oIDZDI1jpW/+RyOEWHj/bwPZ08dcJqkdJjIbNOROEjmLCEKcWC8j+9DzOB4o+CMSTEx58imsRCUiDvEIylDvgeb2dQV9cTh8lnUi+/l/7URpp19Tu/evWXSNZ9jISpG1JB685mWpONJNCrCfLcNsEIKgWGfLCTChH0RdnwOQhtBzP+Z/4U9ETGchxjhe4keYlt+A4LO2pa6cBzxg4gjTYhNEPtElYi40j75fj6n3u+i7f3mN7+RtCVRM+pIe+HaET2j/ogiPpPv21mbjGtLgE24hvQF5p5RN34X76fdE71DXFvhynsRfYg56o6IUxRFUYolkwjDOeJoiAi0adNm+yR2HGDHjh0lCsD8LBwDYqF9+/bizBBTOCRSLzhbnCZRCBwD0S4mdEfnquBw+C4iFNztk6LiCTLOxWESjUCIEBU66qijxOlxHp/N9/zHf/yHRAVIaSJMECjMGeIzeFqNevNkIWkdBB8CAkfGb+nUqZOII+rNufyLCOE3UWccKNEL5jDVRlcQRnwn34djxhHifDkPp2kjLdiLSAZz26yDRpDy+4i82fdG2dnnUD/7ORbqh6hExFAvS9LxJBoVYb7bBnDtEFD2wQOOI2KoO2lD2gXfg6BBECGgEWK0Bb6DY4i9448/Xr6LpxwRfNa2XHcEFanIgQMHytw16kJhzS0Kn0HdSHXu7HfRJvnOX//615IaRYTxmbQzBC/XjuuDAMSWiMWdtcloWyLCaevM+xFiRMP4PbQHbhL4blKvpOk51wpNrgtiFyFW20YURVGUYsgkwriLRjAhAhj0cQBEZziGA6bgcBj4ucvHceFAiVwhGki14FBwpkQFcDg4GhxY7R065+B4+Xy+DweNIyFKQdSBiAVRAr4HkYBTI4qAcOMY59uJ4wgc+wQZUSDqTZSEaIN1jJzH+/ksnBrfSRSMOTkIL76T8xAGCBmO16bzcH4IKOYrRZcDIIpDxIPPIU1KGg4nyjHrXIlYYAtsRBSQ76ulkc+xIFKJpFjxaEk6ngTfhVimfjvDd9sA7Mc1RwgiXBBNNuLG7+AacI34Lj6HwjXme4hq8RrfQXSN49TFiiHge/g+rhm/kXpQ+FyuBf/nffZzkn4X30vKj99FOtCKIwrtEBEUnRTP99drk9G2RNuuTSOyThpilOtDCpa2QDSM90dhHh7iDJvYNqwoiqIUi9OcsEbA8TFJ2c6hqQpWHOJYcXxRp8b/cXQ4aZwzDtAKinrwXqI8iKNo5CMtVlgwKZwoGXXY2fF6UB/EaZwozErV2gbiCjFFm7DiG3sj7EmNIoKIspEibRSXtmRBsCL2iB6TYlcURVHCIBcRFp3IXBVwhERiiF4gwhBOtUIM0WJTa3apgHoQSeJ9pMtIR9k5QGlBaGFznHc0gpJ0vB68z3cEpWptg/aAUEKEMa/LToonooV4Yt4eIoz2kIasbclCvWwks5GHMBRFUZR8aDYRZtNSzNNhkjJzZ0iXVQmbKsJB2pRnFFKWpE1JFTIPpxFwsDyAQJoJAZY26gG8B3FF1IOUqU05Jh3Pm6q2DUSqXYsLwWVT2RT+z+8kxV1vXl0cWdoScM15aIEFZJnIjyBTFEVRwqDZRBiOhjkx3PnzNBlLDlQxFYKTQ0AQWSIaFsWKHl5rVGTwHoQYKaSsIN6YaM5cueiaYUnH86aqbYNrx3Vj7hpPVPK7mNzPU7ms28XcMlKRWYRv1rZEFI4oGHPq6s3nUxRFUfKl2UQYzghni9Nh8jxzUmx6pmogmmrTkRaED6+lmduF86RkhYgcEQ+iaVFhmHQ8b6rcNrhuRPqYGM/v4jfyL9Er5ozZiGQW0rYlzkd4kQpFfLsIe0VRFMU/zT4nTMkfoh8ILv6NCsOk40o14RpzvblJQJC5CHtFURTFPyrCFEVRFEVRCkBFmKIoiqIoSgGoCFMURVEURSkAFWGKoiiKoigFoCJMURRFURSlAFSEKYqiKIqiFICKMEVRFEVRlAJQEaYoiqIoilIAzSbCWBCU/e7YnDnrVi3NDauJv/7667JqO6uZh4basGWg7dAdtaESAtoO3WlpNmwWEUal3nnnHbNo0SLZI3DOnDmy8TD7FYZUli9fbqZPny6bLS9dujT2nCILG4PPnTvX3HbbbeaOO+4I3oZsXq00jl3Rno25Z82aJXZ84IEHYu1cZClbOwy9L7Oh+1//+temVqBUAe3L/kpL68vNIsLYK2/+/PmmQ4cO5sgjjzQ///nPzSGHHGJ+8pOfBFUOOOAA84Mf/MC0atXK/OhHP4o9p8hy4IEHmv3220/K/vvvbw466KDY84osURuyabXSOAza69atM6NGjTKHHXaY+dd//Vf5N87ORZaytcPQ+/Kxxx7b8CbsSjnQvuyvtLS+7FWEEQFDgBH9GjBggBQa5cSJE83YsWPN7373u8LLkCFDTKdOncyee+5pjjjiCNO7d28zcuRIM2bMmNjz8y4XXnih6dWrlzn88MPNXnvtZTp37myGDRsm9rv44otj35N3qbVhx44dzXe/+12xodIY3D1xF0r/6N+/vxk6dKi54oorzPjx42NtnncpYzssQ18+9NBDTevWrc2GDRuaWoJSdrQvu5eW3Je9iTAEGHlSImCIL6Jgf/zjH0WUhYANF9NZrrrqKtOuXTvpNOvXr5fjIVBWG955551yV0BjVXaOtkN3ymxDnAt306Q1lHKjfdkd7cseRRgXlUq2b99eKkolmRfGDwgBLqgNF3OhJ02aJBee4zSEECirDSmEaFWE1UfboTtltiF31CrCqoH2ZXe0L3sQYVxMKhlNQfJ/joVyoWvDxfzL36FMji27DWmENEYVYTtH26E7ZbchfURFWPnRvuyO9uWvcRJhVERDnW5UwYYqwnaOtkN3qmJDFWHlRvuyO9qXv4mTCKNCVFJDndmpgg1VhO0cbYfuVMWGKsLKjfZld7Qvf5NMIoyKUEkNdWanSjZUEZaMtkN3qmRDFWHlRfuyO9qXdyS1CKMiGup0o2o2VBG2I9oO3amiDVWElQ/ty+5oX04mtQijQlRSQ53ZqZoNVYTtiLZDd6poQxVh5UP7sjval5NpWISxX9LmzZvN7NmzpYKU0EKdH3/8sVm9erUZPXp0kKHOqtpQRdg30XboTlVtqCKsXGhfdkf78s5pWIShWPkyVrZlTahx48aZ+++/X46FUh566CEJdbIVQ7du3WQRUS523LlFFPYVQ2l37949aBtyl0LjGjx4cEPhYt6nIuz/eOutt8y8efNkReWTTjpJ22GGUqa+/LOf/Uz2kmPQroeKsHKhfdm9aF/eOQ2LsM8//1z2SBo0aJD59re/bfbZZx/Ze4pKhFLYc+p73/ue2WWXXcyuu+4qq7jTMOPOLaJQF/bD2m233aSOe++9d5A23Hfffc13vvMduXNpJFxMI+S9KsK+hrsqQtkMOlxrbYfpS1n68u67725++tOfyqa+jUQeVISVC+3L7kX78s5pWIR9+eWX5oMPPjAjRoyQ/Z0GDhwolQitEErEmG3bto19PYRC3fbYY4+gbfiP//iPDe8FqSLsm3z66afm0Ucflc591FFH7WDfUEoZ2mHofZnrm2b/ON7jY+BW8kH7sp+ifTmZ1BPzfX1xc1EGQVA1G5bB5nmj7dCdKtowdJsrO6J92R3ty8moCCuAqtmwDDbPG22H7lTRhqHbXNkR7cvuaF9ORkVYAVTNhmWwed5oO3SnijYM3ebKjmhfdkf7cjIqwgqgajYsg83zRtuhO1W0Yeg2V3ZE+7I72peTURFWAFWzYRlsnjfaDt2pog1Dt7myI9qX3dG+nIyKsAKomg3LYPO80XboThVtGLrNlR3RvuyO9uVkVIQVQNVsWAab5422Q3eqaMPQba7siPZld7QvJ6MirACqZsMy2DxvtB26U0Ubhm5zZUe0L7ujfTkZFWEFUDUblsHmeaPt0J0q2jB0mys7on3ZHe3LyRQqwliFn20h3n33XdnM829/+1vTK9nxfbG3bt0q+4e99957dfdQbJSq2dC3zauAL5uwZRSrdrOb/yuvvGJefvll8+c//3n77v5fffVV05npqVo7TIK6sInw22+/LTakbNq0ybzxxhtynLpnJa0NfdpcyQdf7dASsk9he8L3339fxhjbT1599VWp67Zt2zKPNz778kcffSR7OzIWUkfqSt+m7vW22NsZRfXlQkUYg/Y111wjm3uyP5ePXdV9XWzLgw8+KNv3TJ061axZs6bpqBtVs6Fvm1cBXzZBgLHZ7eWXX246depkjjvuOHP66aeb8ePHy+DzxRdfNJ2Znqq1wyQQWitWrDBjx441J5xwgunSpYtsxjx06FCzcuVKs2XLlqYz05PWhj5truSDr3ZoCdmnvPTSS2b69OnmzDPPlH7StWtXc8opp5ibbrpJBA9CLAu+bIgAW7x4sbnwwgtNx44dZUxkPLzkkkuk7gixrBTVl3MXYSjZDz/80DzxxBNm0qRJ5phjjjFnnHGGue2220SBu+LjYn/22Wei/u+++27Zi6tdu3aymTV19kHVbOjD5lXDh00QWNyJjho1ypx77rkivBA6/D18+HAZLF944YWms9NTtXYYB32Zz2HPW2yISJw8ebLY8rzzzpNjDzzwQNPZ6UlrQ1ebK/njqx2G7lO4cZo1a5bp27evueyyy8y1114rhXrSVyZOnCiR7iz4sCE3U6tWrTLDhg0z55xzjrn66qvNDTfcYEaOHGkGDx5sbr75Zqd+VVRfzl2E0RhXr15tJkyYYI499ljZvRzFHdLATZpi4cKFpk+fPubII4+UTT0vuOCCYDpMaDb0YfOq4cMmDIpEcNq0aSN3zqQgEWaPPfaY/M3dKoN6VqrWDuP44IMPzEMPPSR3zAza3EnjcIgizpgxQ/o39c+aZklrQ1ebK/njox2G7lOY2vDaa6+ZcePGSR9G7JAqJRL/9NNPm7POOks2337xxReb3pEOHzYkYk0U8bTTThPBRf3oy/fdd58ZMmSI1PHee+9tOjs9RfXl3EUYaYvrr79e0iuU7t27S1ogpIGbQZvUBYP22WefbU499VQJd4bSYUKzoQ+bVw0fNmHAu+WWWyQlwL8IMMQCYmzBggXmF7/4hUSgslK1dhgHQpbPmT17tqR1GbSxIWJs+fLl5qc//an0bXs8LWlt6GpzJX98tMPQfQpjC/OsqOe8efNkDhjzqzjO/DUixocddphZv359pnlXPmzI3E3m05EWRZDRZxGPc+fOlRtS7Lps2bKms9NTVF/OXYR98skn5pFHHjGPPvqoXHAMR6gzpIF748aNkqJ47rnnJBfer18/Cc+G0mFCs6EPm1cNHzZBNJAC6N279zciXtwBPvnkkyIgiIhZcZaWqrXDOOxEY1JBRMUszMVBwP7qV7+S9GTWCb1pbehqcyV/fLTD0H0KgoZ0H4KLiBjiBriJ4YaP+nbu3Fl+R5axxocNLXw/IowI3XXXXWd69Ohhjj/+eLHrhg0bms5KT1F9udCJ+Sjviy66SOZrhDRwR5k/f35wHSZKCDb0bfMq4MMmiBvunpnvwGRUC4Jh3bp15uCDD5ZrT1owi4ioWjusB4M3zoVI4h/+8AeZcEwKY8mSJU1npCetDX3aXMkH3+0wdJ8C9BUE2J/+9CczaNAg07NnT5lHSd/Jgm8bclNFdBthSHqX6RDMZ+N4VorqyyrC6qAirD6+bV4FfNgEEUaka2cijEmpWR/Nrlo7rAfpDDvvhacjKcwxIfWSlbQ29GlzJR98t8PQfQoCjKcgFy1aJPU8+uijzZVXXikCp+inIy3Ug8g2qcl77rlHnpbkyXHGnqwU1ZdVhNVBRVh9fNu8CviwCXehDH5x6cinnnrKHHrooRIpQ1xkSRFUrR0mYVMtDz/8sNzN8wTn+eefb+666y552kvXCVN2hq92aAnZp3BDx43K7bffLk8gMteKJ4oZb1zWJfRhQ8Y9bpjefPNNmdNpIYXK+Mh4eOmll2Zez6yovqwirA4qwurj2+ZVwIdNWH6CCfndunUzt9566w4T83/5y18WOjE/Sqh9GXshwBC0fM6vf/1rSUEuXbo0s3iNktaGPm2u5IOPdhglVJ9CNJ1o15w5c+QJyZNPPlmeHKZvcyPjgg8bIsCYy8k6hGQCbJ3sHFlEGMtpMFc1j8yAr76sIqwOKsLq49vmVcCHTZiTwYT3o446SiJetUtU8Kg2A2ZWqtYO4+CumCe6sNVvf/tbSUUykHMn7SrAIK0NfdpcyQcf7TBKiD4F0YJ4mTJlisyvYi0znpIkUpz1wZ8oPmxIBAzbsdwMT2VTX4QYT5Gz8C1L+bCuWRYBBkX15SBEWGhPVEVBdZdBhOnTkWHhwyYMfizWymcgbkilMcgwD4x1cfJenHBnhNqXmTNCNPGQQw6RCby9evWSJ05vvPFGcTgU7qLLlsJQ8sNHO4wSok9B0Dz++OOyjtm+++4r86tI2dNPbF+588475UYwS/rehw25cSKizWKtPIltF17mxoo5YdiTebRZKaovFyrCWGcIpxLiVicWIhFEIVDaLEzpg6rZ0LfNq4Avm/DkI4+1MzeMJ4F4FJs1hmiT7J2WdaIsVK0dxvHss8/KIM1Ck0QUSbPUFnYeKFsKQ8kPX33ZEqJPYecL1tviJuXwww8XEVbbT3hA6Pnnn8805viyIUKMqQTsGkJEjHoR5SYNSYSbqQdZKaovFyrCUNQM3iFu+mvhorI5KPloHKIPqmZD3zavAr5sgjCg3XF9ieogvJi3wWTUrNEbS9XaYRzYjrt3UhbsLYcNawtRu7KlMJT88NWXLSH6FPorQoxJ+Qgtuzl2tLDqPxP3s4w5vmxIPRFijH+2Xux+wd92Bf2sFNWXCxVhzYGvi92cVM2GZbB53mg7dKeKNgzd5sqOaF92R/tyMirCCqBKNmTeEimfAw88MGib500aG3JnSSEa4xLZSkuadlhE/apkQ+rFnTpzVxq1uRIGadphUaTpy0VQJRvSl4kIMgfWh81VhBVAlWxIWJ25BPvtt1/QNs+bNDYkhE5qkY6dZdJrVhpth4ga1giifq4p0DRUyYYIsLVr18qcm0bOV8IhTTssikbbYVFUyYaMMaRs+/bt68XmKsIKoAo2xCnzRBxbRfDo/+677y7LJihf04gNETMIBuZRsecZSykwd4k5DnkUNtvef//9zf333x/7OoWnM1mvjKeOWOyU/dqYLxJ3ru/CXnsHHHCA1DPudQrz45gXwsMLK1askHoiduLObY7SiA2pDzsesPjlv/zLv8hGyAziSjlQn+JOVWzIfFf29OVc+nLr1q2d9qsEFWEFUHYbIsCIgLFmy4ABAyQV+e1vf1ue+FG+pp4NEWCkcpkMSydm+xwcNU9O8Rh2HoWV+Ilg8uh57WuILVbJXrlypVm4cKEs88DTXDxJyKbdtec3R6Fe1I96xr1OHXmsHrHGuWzgSx2pb9z5zVF2ZkNrP+rFXfMRRxwhW02deOKJIhyVcqA+xZ2y29BOJ0CA8QR4u3btzD/90z/J0jcqwmrQDuNOPRsSAUOAtW/fXkQYSwDss88+5uKLL246Q6lnQyJgCDCEBFERbMoirETCPv3001wK85MQ0Awsta+xZAP1I4qDQEQ0rFq1SgTYli1bdji/OQr1on7UM+51npJiAUeEK5Ew6kg0DHvGnd8cZWc2xE7Yiw2QuWumn7DzASKRuivlQH2KO2W3IQKMVfpZGgMBxk4lLBnETZWrzVWEFUBZbWhTkDNnzhTxReH/pGJIyYRs87xJsmFtChLBwP+3bt0qgoz0VV4ktUPu+hARpB2pI+KGR+lJTRLh4bU8KLMN2VyYRWBZvLZnz56y8CWRMcRinjZU3ElqhyGR1A5Docw2tClIBFj//v3lX/5mKoIPm6sIK4Ay2rA2BdmhQwdZlBNRVgab502cTWpTkAgGu6YWThnnXLSAoI7UhQgTIgIBxrXnOHUrWoSFbkMELIIV2xH5Yn9PBBiLcnI8bxsq7pRhfIvryyFRRhvGpSARYMzd5bgvm6sIK4Ay2rA2BYkAYxFMHHQZbJ43cTapTUEiHjhmhU/RAoJ6cD2JgCEiuOYIB45DCCIsdBtiL6JdRMAQYJdffrlEwDjOoK4irHyUYXyrbYehUUYbxqUgEWQcpy/7srmKsAIokw2TUpAc47Xa85WvidoEgRCXPiN6YwVO0QIiKQXJcUuRIqwMNkxKQXLcoiKsfJRhfIu2wxApmw2TUpAct/iyuYqwAiiLDZl0nJSCjFIGm+dN1CZJ6bMoRQoIwut8f1wKMkqRIixkGzIxn+9NSkFGURFWPsowvtm+TF1DpCw2tA/ZJKUgo/iyuYqwAiiLDXv16pWYgoxSBpvnjbXJyJEjE9NnUYoSEAcddJA89ZiUgoxSlAgL3YY/+MEPZOmOpBRkFBVh5aMM41tZfEroNmS5mdmzZyemIKP4srmKsAIoiw3ZTT8pBRmlDDbPG2sTbJeUPotSlID44Q9/aBYsWJCYgoxSlAgL3YZ///d/b0444YTEFGQUFWHlowzjW1l8Sug23HXXXU23bt0SU5BRfNlcRVgBhGxD0j5MLCYsu9deeyWmIKOUweZ5gkAgfI1NevTokZg+i5K3gKCOXK/vf//7snZVUgoySp4CInQbIlTt/nHf+ta3RMwmpSCjqAgrH+pT3AnZhow1bHlGX95ll13E9yWlIKP4srmKsAII2YabN2+WFGSrVq1kMbqkFGSUMtg8TxAKa9askVTfiBEjEtNnUfIUENSD+jDQ/PjHP5ZFYpNSkFHyFBCh2xABxnZOrITPytnsFpGUgoyiIqx8qE9xJ2QbIsA2btwoEfe9995b5nUmpSCj+LJ5ahHGqujsE0iFqURoZeDAgWaPPfYwbdu2jX09hELdQrXh8OHDZVsVwrIsRpeUgoyiIuybWAHBaspt2rSROU21dq4tPATBFjjYPO513wUBxvylf/iHfzB9+vSRv+POixbqRh2pa9zrPsvo0aNNv379pJ9Qz9BsyF0zAuyf//mfZX/LJUuWJKYgo6gIKx92fFOfkr2E7Jfpy9jN9mW2QUtKQUbhvYWJMEJ2hN+pQGiFepEe4ILHvR5CobPYFEbc60UXa0MaWSOoCPsm3D0RJTnmmGPMj370ox3sG1cIgTMplEEg7vXmKOxywHfy3XGv15a057uWtDYpwoZcX64zd9KNoCKsfDC+cUOlPiV7KYtf5t9GRVWhIgyDkqbiy0Mr1Iv6obzjXg+hoLrLYEMVYdnhToq0LndVtfaNK4S/2QS60fN9FLab4jv57rjXa0va811LWpsUYUO+i+vcyJ0zqAgrH1xnxjf1KdlLWfxyKUSYry9uLqhX6IKgajYsg83zJu38pLTn+yCtIMhbQKgNlRBQn+JOFW3oy+YqwgqgajYsg83zRgWEO2pDJQTUp7hTRRv6srmKsAKomg3LYPO8UQHhjtpQCQH1Ke5U0Ya+bK4irACqZsMy2DxvVEC4ozZUQkB9ijtVtKEvm6sIK4Cq2bAMNs8bFRDuqA2VEFCf4k4VbejL5irCCqBqNiyDzfNGBYQ7akMlBNSnuFNFG/qyuYqwAqiaDctg87xRAeGO2lAJAfUp7lTRhr5sriKsAKpmwzLYPG9UQLijNlRCQH2KO1W0oS+bqwgrgKrZsAw2zxsVEO6oDZUQUJ/iThVt6MvmKsIKoGo2LIPN80YFhDtqQyUE1Ke4U0Ub+rJ5oSLsyy+/NJs3bzbvvvuubPvBxseu+L7YW7duNW+99ZZ57733ZFd1H1TNhr5tXgV8CYivvvrKfPHFF+aTTz6RDaIpXGf+dr3WPgUE+2VynPL555/L364k2SSJpPOxIZvQf/zxx+bDDz/cXj766CM57lJXnzZUwqQl+RT67vvvvy/t9JVXXjGbNm0yr776qtR127Zt0pey4MuGjHn027/85S/m5ZdfljpS17ffftt53ElrQ182L1SEIR6uueYac9VVV8neUo3uv7YzfF1sy4MPPmjGjBljpk6datasWdN01I2q2dC3zauALwGBAGPAfuyxx2RfxDvuuEOuM39zrUMREBx76qmnzBNPPGFefPFFGRBd8WVDhBbHVq5cae666y4pc+fONUuXLpXjjf7+OHZmkzjSnq8UT0vyKS+99JKZPn26OfPMM02XLl1M165dzSmnnGJuuukmETwIsSz4siECbPHixebCCy80HTt2NJ06dTKnn366ueSSS6TuLuNOWhv6snnuIgwly10og/WkSZPMMcccY8444wxz2223iQJ3xcfF/uyzz0T933333bLhaLt27czo0aOlzj6omg192DwtTz/9tAgSIkMh4kNA2Ov80EMPyUbRCC+EDn+zmTYDOHeoWXEVEAhABr033njDPPnkk2bmzJkiEKkXfcgVHzZExG7ZssUsW7ZMbEif4ZxHH310+zGcS1ZcbaiET0vxKdzUzZo1y/Tt29dcdtll5tprr5VCPc877zwzceJEybhkwYcNiWSvWrXKDBs2zJxzzjnm6quvNjfccIMZOXKkGTx4sLn55psz/35Ia0NXm1tyF2E0xtWrV5sJEyaYY4891rRq1UoUd0giDKeycOFC06dPH3PkkUea1q1bmwsuuCCYDhOaDX3YPC3XXXed6dChg4SkQ8SHgEDg8DfXlSgOKUiEz+uvvy5/I3ief/75prPT4yogEDjvvPOO9AsEGBFZokwhiTDSPfxNFBEBa1MWOJy1a9eaadOmOfVrVxuWAa4zDpCILG2P8bG2MO5Y21aNluBTiBa/9tprZty4ceJLEDv0HdopN7xnnXWWadu2rUS5s+DDhtxMEUU87bTTRHBRP8TjfffdZ4YMGSJ1vPfee5vOTk9aG7ra3JK7CCN9dv3115vLL79cSvfu3c3QoUODEmFEGsaOHStK++yzzzannnqqhDtD6TCh2dCHzdOCCPvNb35TaRFGlAuxTeqMf62DQ4y98MILMhARgcqKq4CwAzQROiJL99xzj1myZElQIgxhQH9Zv369iAhrQ44TmbjxxhvNww8/nHmui6sNywBCe8WKFWbUqFFm0KBBseWWW26RGwLsWjVagk9BaDPPinrOmzdPxh76ip0Oce6555rDDjtM+lEWoe3Dhsx/Zj4dkWsEGQIM8cj4SPoUuxLdzkpaG7ra3JK7CMOBPPLIIzJoc8ExHKHOkETYxo0bJU3x3HPPSS68X79+Ep4NpcOEZkMfNt8ZDARMvMTZz549Wwoh83/7t3+TcDl/L1iwQO7SmDMQAj4EBIMfbY476GjEC3u8+eabIiCIiGWNPrgKCHv3THSE10iRMgiGJMIYuKkLad3oJGjSKgjY22+/Xd6jIiwZHB/zbehjtv/VFvomfZS2WTVagk9B0NhoJ32avg1EjLnu1Ldz587yO7L0FZ8+gu9HhHEDyM14jx49zPHHHy923bBhQ9NZ6UlrQ1ebWwqdmI/yvuiii8yIESOCEmFR5s+fH1yHiRKCDX3bvBburulcRH7snXf79u3lzow7IP5m3gKCFEcQAj4EhE07Em7HCVoYhBARkydPlvA8ji/LwOhTQDCAU5fQRFgtOBtuYki3cMePbV2iqT5tGCq0r2g6srZoOjIdofsUYDxBgNFWGV979uxpxo8fL1HRLPi2IVFsxD/CkPQu03KYz8bxrKS1oS+bqwirg4qw+vi2eS0M7AzwhMjtwH/ppZeao48+WiKCOAEcBI4ilDtxHwKC39mICCPaoyKs/vm0IyKlRJARYBQGbZe6+rRhqGg6smX5FMYSnoJctGiR1JNx9sorr5S+UvTTkRbqwUNZpCaZBsHTkscdd5z4wKyktaEvm6sIq4OKsPr4tnkjtIQ5YVzbxx9/PDEdOWXKFJnPVFQ6MkrIIgynYlOnpM1IryxfvlzarX3YISs+bRgqmo5sOT4FEU0/IU3PE4hkGlj+iIda6ENZbvbAhw2ZTsCNOGNfdNoJN+A8dXrooYfKzXnW9czS2tCXzVWE1UFFWH1827wRWJ5iwIABEi0KER8CggGHtJmdmE8qDRAOzH8j+lDkxPwooYowK8AYqInmzJgxY3sK0kfqzKcNlTBpKT6F/kC0a86cOfKE5MknnyxP4ONj7NiTFR82ZDxkbOGp8HXr1m2vE+KMcRARxrSUrDdWaW3ow+agIqwOKsLq49vmjUAoGgFmJ5CGhg8BwV0pgyLX1S5RwcBD+pW/CcO7tCGfAiJUEWZ3lKAfc7dMKpJUbta0Si0+baiESUvwKYgWxhei68yvYi0z0vX0laxzTqP4sCERMGzHAq2sDmDHQ25IWfi2TZs28qBW1purtDZ0tbklCBEW2tORUVDdZRBhVX46soz4EBAMMDzVRwQHcYOA4IkgxA5LQRAlQ2BkxaeACFWEIdaxE0+SMlCTUqMfP/PMM9sLg3sI8+qUMGkJPgVBw9QH1jHbd999ZX7V+eefL/2GgjhjrT3mB9JX0uLDhqQg6Tss1sqKAKRJmRfL2mbMCcOejJFZSWtDV5tbChVhOBCUa8jbFtn1XRjASQn5oGo29G3zKuBDQAB3ocy1YYBkEGT+DREwImEIDJc0gU8BwbEQty3CdgzM3KBQ7LZF0YJozDrfxacNlTBpCT6Fmz2mPfTq1cscfvjhIsJISUYLq9IzNzVLFNmXDRFibDfGQyJExKgXi7eShqQfczOYlbQ2dLW5pVARZlMFhDwRDy4OxeLrYlu4qAzk5KN93N1D1Wzo2+ZVwIeAAIQBQow7VUQXhetMu8wavbH4FBCkADhOPRFgWVMCUXzY0NqOCDEFZ1Nb6NdZ7ejThkqYtASfYqPuTMpHaDFnkicPo4VpEPTtLH3Flw2pJ0KMOZ62XvQp/rYr6GclrQ1dbW4pVIQ1B74udnNSJRvSIXjS7IADDgja5nmTRkAgWLAjUaRNmzY1HW1+GhUEDLoMbgzM1DEvAaE2VEJAfYo7VbKhzU6QFvVhcxVhBVAFG+L0uPNgBegrrrjCfO973zMXX3xx06tKowIC58y53GUyn4qnfvg7j8IdL0tcsPp03Ou2sEQBgw7z0VgVn6hr3Hm+C/WiftQz7nVbiHQRVUDg8OQje0LGndccJa0NmYNGOsolbaLki/oUd6piQ6YtMC+ONdROPPFEc/DBBzvbXEVYAVTBhggwBAO5+YMOOsh85zvfkXkOytfgeOuJMAQYnRrxgLi59dZbZeI478ujMIeQeVKIiLjXKTz6zYR7zps0aZJs0o2IiDvXd6FefC/1jHudgjBkvhzz5Jiky6rezJuLO7c5SlobsrUKSwCQ+lHKgfoUd6piQx6E4wnNDh06mL333tsccsghTlslgYqwAii7DZmTxB09Aqx///7mpJNOMrvttpsZM2ZM0xlKPRFm51AhwOjEPMGHQ2fRS96TR2HCOt9JNKf2NZbGoG5MtmciLCICocPDAbSP2vObo1Av6kc9414n7UhdSIezLx9Cdvr06SIS485vjpLWhosXL5YnW0mdKuVAfYo7ZbchN8sIsJkzZ8r6lBS2S2rdurWKsFq0w7iTZEObgkSA8TRmu3btRIjhmPfbb7+gbZ43OxNhNgXJ0ghESZhcirAlqhN3fnPBd1FH6hKF+jHvgWgNAwz1on7UM+785kJtqISA+hR3ymxDBBhTCYiAIb6IgnHj1bt3by82VxFWAGW1YTQFiQAjPWXXWjrwwAODtnneJAmIaAoS8cDdFU9IMa8pSXA0F0kCgqcuEQ8IByI8iAeOEdnJU0CoDZUQUJ/iTpltaFOQ7du3FxGGAGNeGGuT+bC5irACKKMNcSLRFCT/8jfHy2DzvIkTELUpSKIiiAd7vGgBgbhBKDDxnvohHvg/T/XxWpLgaC7UhkoIqE9xp4w2jEtB8n+O8Zovm6sIK4Ay2TApBbl+/Xo5Xnu+8jW1ggAHzLFo+oyOzHEoWkBQj7j0WXTdnbwFhNpQCQH1Ke6UzYaMK3EpSASYxZfNVYQVQJlsmJSC5DgCrfZ85WuiggDnTKeuTZ9Z8QBFC4ik9Fm0jnkLCLWhEgLqU9wpmw0ZX+JSkIxBFl82VxFWAGWx4ZAhQxJTkFHKYPO8sYKAJ/j4f1z6LEpRAgLBwJN6SemzKHkLCLWhEgLqU9wpiw33339/eco6KQUZxZfNVYQVQFlsyN5cSSnIKGWwed7gZHHO2CYpfRalCAHBJHHW2KJ+SemzKEWIMLWhUjRlGN/UL7tD3Vj76/e//31iCjKKL5urCCuAsthwzz33TExBRimDzfOGJ/VwzqxhlZQ+i1KEgEDQsL4W62olpc+i5C0g1IZKCKhPcacsNtxll13kSf+kFGQUXzZXEVYAIduQ7VRwKOwFecQRRySmIKOUweZ5glBls2jmFOCgk9JnUfIUEAgEIjVsOcUab/yblD6LkqeAUBsqoaA+xZ2QbcjDNJs3bzbDhw833/3ud2Xx8aQUZBRfNk8twtgf8Ic//KGoRL48tEK9qB9KNu71EMrAgQODtSECbMKECWafffaRxeiSUpBReJ+KsP8DR8yTNdOmTZP9IBGwRHVwvEml0X0SfRTqwhwmxA1b/SBw2Nsw7txooW6N7JPoo1Af5oJRP+ZohGpDonRc57feekuuez1UhJUPO76pT8leQvbL3EBxs8dekCw6zk1VUgoySqEijJAdBqUCoRXq9a1vfcvsvvvusa+HUPbYYw+pY4g2JAKGAPu7v/s7WYwuKQUZhUbIe1WEfQ324s5qxowZ5u6775Z5QjjenZVG9kn0VagP6T22+GHzdYREI3WkbvX2SfRV2OoHkUj9sGOoNpw3b57cNRO121kEzKIirHwwvrFRs/qU7CVkv0z6sVWrVmbXXXeV/5P52VkEzFKoCOOCo7ypRGgFpc2Fbtu2bezrIRTqVgYb8v9GUBH2TXDGRG7YL7DRvSCJ3iAekvZJ9F2YUM5ehmn2gtzZPom+C/UjCkv9Gt0Lsggb8l1c50b3guR9KsLKhR3f1KdkL2Xxy2lEFe8pRIT5+uLmwnYY6hkqVbNhGWyeNzhZnC1OtxHSnu+DtIIgbwGhNlRCQH2KO1W0oS+bqwgrgKrZsAw2zxsVEO6oDZUQUJ/iThVt6MvmKsIKoGo2LIPN80YFhDtqQyUE1Ke4U0Ub+rK5irACqJoNy2DzvFEB4Y7aUAkB9SnuVNGGvmyuIqwAqmbDMtg8b1RAuKM2VEJAfYo7VbShL5urCCuAqtmwDDbPGxUQ7qgNlRBQn+JOFW3oy+YqwgqgajYsg83zRgWEO2pDJQTUp7hTRRv6srmKsAKomg3LYPO8UQHhjtpQCQH1Ke5U0Ya+bK4irACqZsMy2DxvVEC4ozZUQkB9ijtVtKEvmxcqwr788kvZ3oWNb1lhvJG91+rh+2Kzhx37wr333nt191BslKrZ0LfNq4AvAcHq+2wwy16FH3zwgRS7j6LrtfYpINiqieOUzz//vO5WV42QZJMkks7HhmxDwub0H3744fbCKvccd6mrTxsqYdKSfAp9ly24aKfsKcv+rewMQV23bdvW0NZccfiyIWMe/Za9HV9++WWpI3Vlr17XcSetDX3ZvFARhni45pprzFVXXSXbjeBcXPF1sS1s7TJmzBgzdepUs2bNmqajblTNhr5tXgV8CQgEGAM22x+xhc8dd9wh15m/udahCAiOsd/jE088YV588UUZEF3xZUOEFsdWrlxp7rrrLilz586V7YY43ujvj2NnNokj7flK8bQkn/LSSy/JnrJnnnmm6dKli+natas55ZRTzE033SSCByGWBV82RIAtXrxY9jXu2LGj6dSpkzn99NPNJZdcInV3GXfS2tCXzXMXYShZ7kIZrCdNmmSOOeYYc8YZZ8jGuyhwV3xc7M8++0zUP5svsxdXu3btzOjRo6XOPqiaDX3YvGr4EBD2OrN3IptZI7wQOvx9//33ywDOHWpWXAUEApBB74033pDNrNnIGoFIvehDrviwISJ2y5YtZtmyZWJD+gznsOejPYZzyYqrDZXwaSk+hZu6WbNmmb59+5rLLrvMXHvttVKo53nnnWcmTpwoGZcs+LAhkexVq1aZYcOGmXPOOcdcffXV5oYbbjAjR440gwcPNjfffHPm3w9pbehqc0vuIozGuHr1ajNhwgRz7LHHyu7lKO6QRBhOZeHChaZPnz7myCOPNK1btzYXXHBBMB0mNBv6sHnV8CEgEDj8zXUlikMKEuHz+uuvy98IHjatzoqrgEDgvPPOO9IvEGBEZIkyhSTCSPfwN1FEBKxNWeBw1q5da6ZNm+bUr11tqIRPS/ApRItfe+01M27cOPEliB36Du306aefNmeddZZscE2UOws+bMjNFFHE0047TQQX9UM83nfffWbIkCFSx3vvvbfp7PSktaGrzS25izDSZ9dff725/PLLpXTv3t0MHTo0KBFGpGHs2LGitM8++2xz6qmnSrgzlA4Tmg192Lxq+BAQRLkQ26TO+NemHhFjL7zwggxERKCy4iog7ABNhI7I0j333GOWLFkSlAhDdNFf1q9fL2lda0OOE5m48cYbzcMPP5x5rourDZXwaQk+hRsq5llRz3nz5snYQ1+x0yHOPfdcc9hhh0k/sn0oDT5syPxn5tMRuUaQIcAQj4yPpE+xK9HtrKS1oavNLbmLMBzII488IoM2FxzDEeoMSYRt3LhR0hTPPfec5ML79esn4dlQOkxoNvRh86rhQ0Aw+NHmuIOORrwYGN98800REETEsgyK4Cog7N0zkTleI0XKIBiSCGPgpi6kdaOToEmrIGBvv/12eY+KMCWJluBTEDSk+xhz6NP0bSBivGDBAqlv586d5Xdk6Ss+fQTfjwjjBvC6664zPXr0MMcff7zYdcOGDU1npSetDV1tbil0Yj7K+6KLLjIjRowISoRFmT9/fnAdJkoINvRt8yrgQ0DYtCPhdiadWhiEEBGTJ0+W8DyiLMvA6FNAMIBTl9BEWC04G25iSLdwx49tecoqKz5tqIRJS/MpwHiCAKOtDho0yPTs2dOMHz9eph9kwbcNiWLPnj1bhCHpXablMJ+N41lJa0NfNlcRVgcVYfXxbfMq4ENANCrCiPaoCKt/PhFDnq4igowAozBou9TVpw2VMGlpPoWxhKcgFy1aJPU8+uijzZVXXil9peinIy3Ug+V6SE0yDYKnJY877jjxgVlJa0NfNlcRVgcVYfXxbfMq4ENAcG0ff/zxxHTklClTZD5TUenIKCGLMJyKTZ0yf430yvLly6Xd2ocdsuLThkqYtCSfwlxJ+glpep5AZK4Vyx/xUAt9KMvNHviwIdMJmKvG2MfNlIUUKk+dHnrooebSSy/NvJ5ZWhv6srmKsDqoCKuPb5tXAR8CggGHtJmdmE8qDRAOPKV0yy23FDoxP0qoIswKMAbqFStWmBkzZmxPQbqIL4tPGyph0lJ8Cv2BaNecOXPkCcmTTz5ZnsDHx9ixJys+bMh4yNjCU+Hr1q3bXifEGeMgIozlNLLeWKW1oQ+bg4qwOqgIq49vm1cBHwLCPsHHdbVLVDDw8Lg7fxOGd2lDPgVEqCLM7ihBP+ZumVQkqdysaZVafNpQCZOW4FMQLYwvRNeZX8VaZqTr6StZ55xG8WFDImDYjgVaWR3AjofckLLwbZs2bWRds6w3V2lt6GpzSxAiLLSnI6OgussgwvTpyLDwISAYYHiqjwgO4gYBwRNBiB2WgiBKhsDIik8BEaoIY94IduJJUgZqUpH042eeeWZ7YXAPYV6dEiYtwacgaJj6wDpm++67r8yvOv/886XfUBBnrLXHxHz6Slp82JAUJH2HxVpZEYA0KfNiWduMOWHYkzEyK2lt6GpzS6EiDAeCcg152yK7vgsDOCkhH1TNhr5tXgV8CAjgLpR90RggGQR5IogIGJEwBIZLmsCngOBYiNsWYTsGZm5QKHbbomhBNGad7+LThkqYtASfws0e0x569eplDj/8cBFhpCSjhVXpmZuaJYrsy4YIMbYbGzVqlETEqBeLt5KGpB9zM5iVtDZ0tbmlUBFmUwWEPBEPLg7F4utiW7ioDOTko33c3UPVbOjb5lXAh4AAhAFCjDvV6AbetMus0RuLTwFBCoDj1BMBljUlEMWHDa3tiBBTcDa1hX6d1Y4+baiESUvwKTbqzqR8hJbdHDtamAZB387SV3zZkHoixJjjaetFn+Jvu4J+VtLa0NXmlkJFWHPg62I3J1WzYRlsnjc+BERzE7qAUBsqIaA+xZ0q2tCXzVWEFUCVbEik4dlnnzUHHnhg0DbPmzSCgDtLojWk81wWG0xLGkFAHakbc9LyEhBqQyUE1Ke4UyUbEuUnIshcbB82VxFWAFWyIWF15hLst99+Qds8b9IICJsKYO4S4fW8aFRAIB6YM8VcL9bZQuzkgdpQCQH1Ke5UyYYIMFK2ffv29WJzFWEFUAUb4lB4MpOtIthA/Pvf/75sa6F8TSMCAsfMvC7m8zGplL0XiZLwnjwKgoWHORhQ4l6nbNq0STYL51wWjeURcfZnizvXd6Fe1I/vjnudQmQJ0cWefOzNx0R79lWNO7c5Slobco15qMJlArGSL+pT3KmKDZmPyxPVnPvLX/7S/PznP5e+7YKKsAIouw0RYETAcMgDBgyQp2n+/d//3UyfPr3pDKWeCEOAkcoleoOoYRkKlnjAUfO+PArigScGWXW/9jXEIKk9BAPii4Vhb731Vol6EsmpPb85CvWiftQz7nXqyFOjiC+eHJ02bZosxsryHXHnN0dJa0Psx7F6kTMlHNSnuFN2G5KCZOI/AoyVCNq1a2d+8YtfmN69e8vDDC6oCCuAstuQCBgCrH379iLCWNSPSI6PNcqqQj0RRgQMAYajJorCU49bt26VNBXvzaPwvYiHLVu27PAa9aB+a9euFXFItImIHcfyqiP1on7UM+51npJijS8e+ScSxhNSPHHG8bjzm6OktSH14zUfT48q+aA+xZ2y2xABxir9LI2BAJs0aZKMOwgwghIuqAgrgLLa0KYgZ86cKeKLwv855toQqwaONk6ERVOQRMBw4vyfOU28lifUjTpS1yh2uQkeU6eOiAcepc9bOKgNlRBQn+JOmW1oU5AIsP79+8u//M1xH6gIK4Ay2rA2BdmhQwdJxSDAlB2JExC1KUiiYL7WdstCnICgjvxNhIn92BAPXPu8xQ2oDZUQUJ/iThltyA1TbQoSAbZ+/Xo57gsVYQVQRhvWpiARYGxhoRGweOIERG0KEvHAsaKcc62AoB5cT6I3iAeuuctCpq6oDZUQUJ/iThltGJeCRJBx3GdEW0VYAZTJhjgUHImmINMRFRA44FDSZ1GiAiLE9JnaUAkB9SnulM2G3Nw1ZwoyioqwAiiLDdkUVVOQ2bACgiUUQkqfRUFAUB870T609JnaUAkB9SnulMWGLDqO2GruFGQUFWEFUBYb9urVS1OQGbECgqhISOmzKAgIlkugfiGmz9SGSgioT3GnLDZk0fHZs2c3ewoyioqwAiiLDVn/S1OQ2UBA4JBx0CGlz6KwiChrWLGEQojpM7WhEgLqU9wpiw133XVX061bt2ZPQUZREVYAIduQtA9rLhGW3WuvvTQFmQEEAmt+sTbU0qVLg0qfWagjKz2ziKhdwyqk9JnaUAkF9SnuhGxD+uu2bdtkL8hddtlFfF9zpyCjqAgrgJBtuHnzZklBtmrVynTu3FlTkBlAKBCxYSV1nHNI6TOgHtSHle9Zxd1Gb0ISD2pDJRTUp7gTsg0RYBs3bpSMz957723GjRvX7CnIKKlF2JgxY8yee+4pFcagoZWBAweaPfbYw7Rt2zb29RAKddt9992DtOHw4cNN165dzW677WaGDRumKcgMICBYQZ0tapYtWyYOmsnlzB8KoVAX5i8tXrzYTJ061axatUrSanHnFlWoD/WiftQzVBtyfbnOrISvKchqQpr5kEMOMUcddVTsmBlCCdmnUEL2y0TAsBvTb3784x/LNmjNnYKMklqETZkyxfzsZz8zBx98sCjbEEvIdbMldPsx6EyePLnpqitpwBmTSmMuU557QTZaSO1RN/ZYZMupvPaCTFOoHxtxUz/SkXHnFFmsDakj/zJ/Takm3AB06dJFxsS48TKUErrfC71+rVu3NieccIJc7zxJLcK44+POgPCiluoWrjGpSSUbRMNwzHnts5ilsMciT/WFWke792Kee0GmLdZ2GgWrLqSrcMzq96pd7IM1XO88SS3CFEVRFEVRFHdUhCmKoiiKohSAijBFURRFUZQCUBGmKIqiKIpSACrCFEVRFEVRCkBFmKIoiqIoSgGoCFMURVEURSkAFWGKoiiKoigFoCJMURRFURSlAFSEKYqiKIqi5I4x/x923GDMQdikqQAAAABJRU5ErkJggg==)\n"
      ]
    },
    {
      "cell_type": "code",
      "execution_count": 32,
      "metadata": {
        "colab": {
          "base_uri": "https://localhost:8080/"
        },
        "id": "BA6IhsTwadv4",
        "outputId": "3b946062-c9ae-4714-e736-8637e95b7b19"
      },
      "outputs": [
        {
          "name": "stdout",
          "output_type": "stream",
          "text": [
            "a shape: (3, 1)\n",
            "[[0]\n",
            " [1]\n",
            " [2]]\n",
            "b shape: (1, 3)\n",
            "[[0 1 2]]\n"
          ]
        }
      ],
      "source": [
        "a = np.arange(3)[:, np.newaxis]\n",
        "print(\"a shape:\", a.shape)\n",
        "print(a)\n",
        "b = np.arange(3)[np.newaxis, :]\n",
        "print(\"b shape:\", b.shape)\n",
        "print(b)"
      ]
    },
    {
      "cell_type": "code",
      "execution_count": 35,
      "metadata": {
        "colab": {
          "base_uri": "https://localhost:8080/"
        },
        "id": "Gqbp26KQLSz5",
        "outputId": "243d9d63-ff20-40d6-de2a-c32da3097f98"
      },
      "outputs": [
        {
          "name": "stdout",
          "output_type": "stream",
          "text": [
            "(3, 1)\n"
          ]
        }
      ],
      "source": [
        "print(a.shape)"
      ]
    },
    {
      "cell_type": "code",
      "execution_count": 36,
      "metadata": {
        "colab": {
          "base_uri": "https://localhost:8080/"
        },
        "id": "lfl4dES_LtnH",
        "outputId": "42193945-3cac-4924-b9b7-ff0468961641"
      },
      "outputs": [
        {
          "name": "stdout",
          "output_type": "stream",
          "text": [
            "(1, 3)\n"
          ]
        }
      ],
      "source": [
        "print(b.shape)"
      ]
    },
    {
      "cell_type": "code",
      "execution_count": 34,
      "metadata": {
        "colab": {
          "base_uri": "https://localhost:8080/"
        },
        "id": "3eBxZ15vaveI",
        "outputId": "60a93b1e-8fd7-4a1d-8648-2b6343fca3f9"
      },
      "outputs": [
        {
          "data": {
            "text/plain": [
              "array([[0, 1, 2],\n",
              "       [1, 2, 3],\n",
              "       [2, 3, 4]])"
            ]
          },
          "execution_count": 34,
          "metadata": {},
          "output_type": "execute_result"
        }
      ],
      "source": [
        "a+b"
      ]
    },
    {
      "cell_type": "markdown",
      "metadata": {
        "id": "EMkQRK26aauk"
      },
      "source": [
        "## Broadcasting of both arrays\n",
        "\n",
        "![Capture3.PNG](data:image/png;base64,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)"
      ]
    },
    {
      "cell_type": "markdown",
      "metadata": {
        "id": "ZtYhdsHYa8D-"
      },
      "source": [
        "## Rules of Broadcasting\n",
        "Broadcasting in NumPy follows a strict set of rules to determine the interaction between the two arrays:\n",
        "\n",
        "To determine if two arrays are broadcast-compatible, align the entries of their shapes such that their trailing (i.e. rightmost) dimensions are aligned, and then check that each pair of aligned dimensions satisfy either of the following conditions:\n",
        "\n",
        "1.   the aligned dimensions have the same size\n",
        "2.   one of the dimensions has a size of 1\n",
        "\n",
        "The two arrays are broadcast-compatible if either of these conditions are satisfied for each pair of aligned dimensions.\n",
        "\n",
        "3. Input arrays do not need to have the same number of dimensions. The resulting array will have the same number of dimensions as the input array with the greatest number of dimensions, where the size of each dimension is the largest size of the corresponding dimension among the input arrays. Note that missing dimensions are assumed to have size one.\n"
      ]
    },
    {
      "cell_type": "markdown",
      "metadata": {
        "id": "lEZq6jyRbdIa"
      },
      "source": [
        "## Broadcasting example 1\n",
        "Create 2 arrays that have shape of (2,3) and (3,)"
      ]
    },
    {
      "cell_type": "code",
      "execution_count": 37,
      "metadata": {
        "colab": {
          "base_uri": "https://localhost:8080/"
        },
        "id": "48P91tJObnjJ",
        "outputId": "36c0576e-ad41-4055-da22-9ab28865efc8"
      },
      "outputs": [
        {
          "name": "stdout",
          "output_type": "stream",
          "text": [
            "M shape: (2, 3)\n",
            "[[1. 1. 1.]\n",
            " [1. 1. 1.]]\n",
            "A shape: (3,)\n",
            "[0 1 2]\n"
          ]
        }
      ],
      "source": [
        "M = np.ones((2, 3))\n",
        "print(\"M shape:\", M.shape)\n",
        "print(M)\n",
        "A = np.arange(3)\n",
        "print(\"A shape:\", A.shape)\n",
        "print(A)"
      ]
    },
    {
      "cell_type": "markdown",
      "metadata": {
        "id": "nS5XtTPab-gK"
      },
      "source": [
        "The shape of the 2 arrays are:\n",
        "\n",
        "*   M shape = 2 * 3\n",
        "*   A shape  = $\\;\\;\\;\\;$  3\n",
        "********************************************************************************\n",
        "It follows Rule1 as aligned dimensions are same and therefore broadcast compatible.From Rule 3\n",
        "\n",
        "*   Result shape = 2 * 3\n",
        "\n",
        "\n",
        "********************************************************************************\n",
        "The shapes match, and we see that the final shape will be (2, 3):\n",
        "![Capture4.PNG](data:image/png;base64,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)"
      ]
    },
    {
      "cell_type": "code",
      "execution_count": 38,
      "metadata": {
        "colab": {
          "base_uri": "https://localhost:8080/"
        },
        "id": "iXCXPcYreCAZ",
        "outputId": "1b8711b5-53b8-4ed4-eee4-eee89dc01f4a"
      },
      "outputs": [
        {
          "data": {
            "text/plain": [
              "array([[1., 2., 3.],\n",
              "       [1., 2., 3.]])"
            ]
          },
          "execution_count": 38,
          "metadata": {},
          "output_type": "execute_result"
        }
      ],
      "source": [
        "M + A"
      ]
    },
    {
      "cell_type": "markdown",
      "metadata": {
        "id": "or9vbjDFe49d"
      },
      "source": [
        "## Broadcasting example 2\n",
        "Both arrays need to be broadcast:"
      ]
    },
    {
      "cell_type": "code",
      "execution_count": null,
      "metadata": {
        "colab": {
          "base_uri": "https://localhost:8080/"
        },
        "id": "Er4mgIdQfBff",
        "outputId": "c544d440-e56c-4044-f508-407dfc41aafa"
      },
      "outputs": [
        {
          "name": "stdout",
          "output_type": "stream",
          "text": [
            "[[0]\n",
            " [1]\n",
            " [2]]\n",
            "[[0 1 2]]\n"
          ]
        }
      ],
      "source": [
        "a = np.arange(3).reshape((3, 1))\n",
        "b = np.arange(3).reshape((1, 3))\n",
        "print(a)\n",
        "print(b)"
      ]
    },
    {
      "cell_type": "markdown",
      "metadata": {
        "id": "3a1CTHzafs8w"
      },
      "source": [
        "The shape of the 2 arrays are:\n",
        "\n",
        "*   a.shape = 3 * 1\n",
        "*   b.shape = $\\;\\;\\;$ 3\n",
        "********************************************************************************\n",
        "It follows Rule2  and therefore  is broadcast compatible.From Rule 3\n",
        "*   Result shape = 3 * 3\n",
        "\n",
        "********************************************************************************\n",
        "The shapes match, and we see that the final shape will be (3, 3):\n",
        "![Capture3.PNG](data:image/png;base64,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)"
      ]
    },
    {
      "cell_type": "code",
      "execution_count": 39,
      "metadata": {
        "colab": {
          "base_uri": "https://localhost:8080/"
        },
        "id": "hPZg_0hlgw7f",
        "outputId": "89cddd13-85f7-402c-91bd-32d59896b61a"
      },
      "outputs": [
        {
          "data": {
            "text/plain": [
              "array([[0, 1, 2],\n",
              "       [1, 2, 3],\n",
              "       [2, 3, 4]])"
            ]
          },
          "execution_count": 39,
          "metadata": {},
          "output_type": "execute_result"
        }
      ],
      "source": [
        "a + b"
      ]
    },
    {
      "cell_type": "markdown",
      "metadata": {
        "id": "VqcS16UuhHHP"
      },
      "source": [
        "## Broadcasting example 3\n",
        "Two arrays are not compatible"
      ]
    },
    {
      "cell_type": "code",
      "execution_count": 40,
      "metadata": {
        "colab": {
          "base_uri": "https://localhost:8080/"
        },
        "id": "5RkDYZoahNRy",
        "outputId": "a338de7c-c500-4888-faf5-87f4438a5939"
      },
      "outputs": [
        {
          "name": "stdout",
          "output_type": "stream",
          "text": [
            "[[1. 1.]\n",
            " [1. 1.]\n",
            " [1. 1.]]\n",
            "[0 1 2]\n"
          ]
        }
      ],
      "source": [
        "M = np.ones((3, 2))\n",
        "a = np.arange(3)\n",
        "print(M)\n",
        "print(a)"
      ]
    },
    {
      "cell_type": "markdown",
      "metadata": {
        "id": "P62c_KfKha7b"
      },
      "source": [
        "The shape of the 2 arrays are:\n",
        "\n",
        "*   M.shape = 3 * 2\n",
        "*   a.shape = $\\;\\;\\;\\;$ 3\n",
        "********************************************************************************\n",
        "It doesn't satisfy both Rule1 and Rule2 and therefore throws value error.\n",
        "\n"
      ]
    },
    {
      "cell_type": "code",
      "execution_count": 41,
      "metadata": {
        "colab": {
          "base_uri": "https://localhost:8080/",
          "height": 141
        },
        "id": "AfNPIOf0h7oe",
        "outputId": "11de5226-4a1a-4cb9-9eed-7d6f40c0f4c6"
      },
      "outputs": [
        {
          "ename": "ValueError",
          "evalue": "operands could not be broadcast together with shapes (3,2) (3,) ",
          "output_type": "error",
          "traceback": [
            "\u001b[0;31m---------------------------------------------------------------------------\u001b[0m",
            "\u001b[0;31mValueError\u001b[0m                                Traceback (most recent call last)",
            "\u001b[0;32m<ipython-input-41-8cac1d547906>\u001b[0m in \u001b[0;36m<cell line: 0>\u001b[0;34m()\u001b[0m\n\u001b[0;32m----> 1\u001b[0;31m \u001b[0mM\u001b[0m \u001b[0;34m+\u001b[0m \u001b[0ma\u001b[0m\u001b[0;34m\u001b[0m\u001b[0;34m\u001b[0m\u001b[0m\n\u001b[0m",
            "\u001b[0;31mValueError\u001b[0m: operands could not be broadcast together with shapes (3,2) (3,) "
          ]
        }
      ],
      "source": [
        "M + a"
      ]
    },
    {
      "cell_type": "markdown",
      "metadata": {
        "id": "8HHXtYAOiYND"
      },
      "source": [
        "## Problem 1: how to calculate pair-wise dot products between rows of M1 and rows of M2 all at once without any loop\n",
        "\n",
        "![Capture5.PNG](data:image/png;base64,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)"
      ]
    },
    {
      "cell_type": "code",
      "execution_count": 42,
      "metadata": {
        "id": "vt-UEMquirDn"
      },
      "outputs": [],
      "source": [
        "M1 = np.ones((3, 2))\n",
        "M2 = np.full((3, 2), 2, dtype=int)"
      ]
    },
    {
      "cell_type": "code",
      "execution_count": 47,
      "metadata": {
        "colab": {
          "base_uri": "https://localhost:8080/"
        },
        "id": "T3HR1BOtNtek",
        "outputId": "adf19656-65f0-4105-9ef3-791786ea48d6"
      },
      "outputs": [
        {
          "name": "stdout",
          "output_type": "stream",
          "text": [
            "[[1. 1.]\n",
            " [1. 1.]\n",
            " [1. 1.]]\n"
          ]
        }
      ],
      "source": [
        "print(M1)"
      ]
    },
    {
      "cell_type": "code",
      "execution_count": 49,
      "metadata": {
        "colab": {
          "base_uri": "https://localhost:8080/"
        },
        "id": "gfAibL0iNuoe",
        "outputId": "a0df15f3-6995-443c-bc8e-7829379fc9dd"
      },
      "outputs": [
        {
          "name": "stdout",
          "output_type": "stream",
          "text": [
            "[[2 2 2]\n",
            " [2 2 2]]\n"
          ]
        }
      ],
      "source": [
        "print(M2.T)"
      ]
    },
    {
      "cell_type": "code",
      "execution_count": 50,
      "metadata": {
        "colab": {
          "base_uri": "https://localhost:8080/"
        },
        "id": "2GO-3gyROMPt",
        "outputId": "abd36b23-6610-4f60-f591-749b1468f93c"
      },
      "outputs": [
        {
          "name": "stdout",
          "output_type": "stream",
          "text": [
            "[[4. 4. 4.]\n",
            " [4. 4. 4.]\n",
            " [4. 4. 4.]]\n"
          ]
        }
      ],
      "source": [
        "print(M1 @ M2.T)"
      ]
    },
    {
      "cell_type": "code",
      "execution_count": null,
      "metadata": {
        "colab": {
          "base_uri": "https://localhost:8080/"
        },
        "id": "WbusUrXmkO-L",
        "outputId": "db2a0f3a-ad8f-4670-e54a-77006a5aceb2"
      },
      "outputs": [
        {
          "data": {
            "text/plain": [
              "array([[4., 4., 4.],\n",
              "       [4., 4., 4.],\n",
              "       [4., 4., 4.]])"
            ]
          },
          "execution_count": 14,
          "metadata": {},
          "output_type": "execute_result"
        }
      ],
      "source": [
        "M1 @ (M2.T)\n",
        "# [[2, 2, 2],\n",
        "#  [2, 2, 2]]\n",
        "# np.matmul(M1, M2.T)"
      ]
    },
    {
      "cell_type": "markdown",
      "metadata": {
        "id": "A4P3Tw5FlB9j"
      },
      "source": [
        "## Problem 2: how to calculate pair-wise difference between entries of vector v1 (n-dim) and entries of vector v2 (m-dim)?\n",
        "\n",
        "![Capture6.PNG](data:image/png;base64,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)"
      ]
    },
    {
      "cell_type": "code",
      "execution_count": 51,
      "metadata": {
        "colab": {
          "base_uri": "https://localhost:8080/"
        },
        "id": "WF6EYoA4mGSN",
        "outputId": "4c9972cd-810f-4e08-ce68-a0c4def5eace"
      },
      "outputs": [
        {
          "name": "stdout",
          "output_type": "stream",
          "text": [
            "[1 2 3 4 5]\n",
            "[6 7 8 9]\n"
          ]
        }
      ],
      "source": [
        "v1 = np.arange(1, 6)\n",
        "v2 = np.arange(6, 10)\n",
        "\n",
        "print(v1)\n",
        "print(v2)"
      ]
    },
    {
      "cell_type": "code",
      "execution_count": 52,
      "metadata": {
        "colab": {
          "base_uri": "https://localhost:8080/"
        },
        "id": "5M1DeV0XO7Ax",
        "outputId": "d1b6f201-211e-4d03-e3cf-3fab8ff67ef9"
      },
      "outputs": [
        {
          "name": "stdout",
          "output_type": "stream",
          "text": [
            "(5,)\n",
            "(4,)\n"
          ]
        }
      ],
      "source": [
        "print(v1.shape)\n",
        "print(v2.shape)"
      ]
    },
    {
      "cell_type": "code",
      "execution_count": 54,
      "metadata": {
        "colab": {
          "base_uri": "https://localhost:8080/"
        },
        "id": "2TkMH6FsPD_L",
        "outputId": "a3aa82b5-76d1-4e16-fbdc-ffe6f12d399a"
      },
      "outputs": [
        {
          "name": "stdout",
          "output_type": "stream",
          "text": [
            "(5, 1)\n",
            "(1, 4)\n"
          ]
        }
      ],
      "source": [
        "print(v1.reshape(-1, 1).shape)\n",
        "print(v2.reshape(1, -1).shape)"
      ]
    },
    {
      "cell_type": "code",
      "execution_count": 57,
      "metadata": {
        "colab": {
          "base_uri": "https://localhost:8080/"
        },
        "id": "xXtENCeSnD7Q",
        "outputId": "8b1e02e5-4c76-44cb-a7fe-08088aead488"
      },
      "outputs": [
        {
          "name": "stdout",
          "output_type": "stream",
          "text": [
            "[[1]\n",
            " [2]\n",
            " [3]\n",
            " [4]\n",
            " [5]]\n",
            "[[6 7 8 9]]\n",
            "[[-5 -6 -7 -8]\n",
            " [-4 -5 -6 -7]\n",
            " [-3 -4 -5 -6]\n",
            " [-2 -3 -4 -5]\n",
            " [-1 -2 -3 -4]]\n"
          ]
        }
      ],
      "source": [
        "print(v1.reshape(-1, 1))\n",
        "print(v2.reshape(1, -1))\n",
        "# print(v1.reshape(-1, 1).shape)\n",
        "# print(v2.reshape(1, -1).shape)\n",
        "v_diff_mat = v1.reshape(-1, 1) - v2.reshape(1, -1) #(n x m)\n",
        "print(v_diff_mat)"
      ]
    },
    {
      "cell_type": "markdown",
      "metadata": {
        "id": "G80wh_RCowt_"
      },
      "source": [
        "## Problem 3: how to calculate the row-wise squared 2-norms for a matrix M (n x m)\n"
      ]
    },
    {
      "cell_type": "code",
      "execution_count": 59,
      "metadata": {
        "colab": {
          "base_uri": "https://localhost:8080/"
        },
        "id": "w9UsencIpl9f",
        "outputId": "3d31cab0-1066-417a-8b53-8c9b22e41f81"
      },
      "outputs": [
        {
          "name": "stdout",
          "output_type": "stream",
          "text": [
            "(5, 3)\n"
          ]
        }
      ],
      "source": [
        "x = np.array([[ 8,  1,  8],\n",
        "              [ 3,  8,  5],\n",
        "              [ 7,  6,  1],\n",
        "              [ 6,  9,  8],\n",
        "              [ 7,  8,  5]])\n",
        "print(x.shape)"
      ]
    },
    {
      "cell_type": "code",
      "execution_count": 62,
      "metadata": {
        "colab": {
          "base_uri": "https://localhost:8080/"
        },
        "id": "n__kQT36Pq96",
        "outputId": "a8da05d1-6495-4da6-a880-0935487f195a"
      },
      "outputs": [
        {
          "data": {
            "text/plain": [
              "array([[64,  1, 64],\n",
              "       [ 9, 64, 25],\n",
              "       [49, 36,  1],\n",
              "       [36, 81, 64],\n",
              "       [49, 64, 25]])"
            ]
          },
          "execution_count": 62,
          "metadata": {},
          "output_type": "execute_result"
        }
      ],
      "source": [
        "x**2"
      ]
    },
    {
      "cell_type": "code",
      "execution_count": 65,
      "metadata": {
        "colab": {
          "base_uri": "https://localhost:8080/"
        },
        "id": "dGZBvde1ucDV",
        "outputId": "8f05e7c1-8a45-4232-c0bd-65a0dcaf0640"
      },
      "outputs": [
        {
          "name": "stdout",
          "output_type": "stream",
          "text": [
            "[129  98  86 181 138]\n",
            "(5,)\n"
          ]
        }
      ],
      "source": [
        "x_new = (x ** 2).sum(axis=1) # (n,)\n",
        "print(x_new)\n",
        "print(x_new.shape)"
      ]
    },
    {
      "cell_type": "markdown",
      "metadata": {
        "id": "dxLcKEYOuqQc"
      },
      "source": [
        "## Hint for the KNN vectorization\n",
        "Suppose we have two, 2D arrays. X has a shape of (M, D) and Y has a shape of (N, D). We want to compute the L2-distance between each pair of rows between the two arrays.\n",
        "\n",
        "One given row in X is represented by (x1, x2, ...., xd) and one given row in Y is represented by (y1, y2, ...., yd). The L2-distance between two rows are:\n",
        "\n",
        "![Capture7.PNG](data:image/png;base64,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)"
      ]
    },
    {
      "cell_type": "markdown",
      "metadata": {
        "id": "bvUmwliJ2ZhZ"
      },
      "source": [
        "If we only consider the term inside the square root, we can write it in a different way:\n",
        "\n",
        "![Capture8.PNG](data:image/png;base64,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)"
      ]
    },
    {
      "cell_type": "markdown",
      "metadata": {
        "id": "zYe8ufc75MEM"
      },
      "source": [
        "![Capture9.PNG](data:image/png;base64,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)"
      ]
    },
    {
      "cell_type": "code",
      "execution_count": 67,
      "metadata": {
        "colab": {
          "base_uri": "https://localhost:8080/"
        },
        "id": "UgJWvToaR7XY",
        "outputId": "243a23f5-90a9-4797-e63a-aa4b89caa73d"
      },
      "outputs": [
        {
          "name": "stdout",
          "output_type": "stream",
          "text": [
            "[[1 2 3]\n",
            " [4 5 6]\n",
            " [7 8 9]]\n",
            "(3, 3)\n",
            "[[2 4 6]\n",
            " [1 3 5]\n",
            " [6 7 8]]\n",
            "(3, 3)\n"
          ]
        }
      ],
      "source": [
        "A = np.array([[1,2,3],\n",
        "              [4,5,6],\n",
        "              [7,8,9]])\n",
        "B = np.array([[2,4,6],\n",
        "              [1,3,5],\n",
        "              [6,7,8]])\n",
        "print(A)\n",
        "print(A.shape)\n",
        "print(B)\n",
        "print(B.shape)"
      ]
    },
    {
      "cell_type": "markdown",
      "metadata": {
        "id": "aZuMjCgo6JGd"
      },
      "source": [
        "# Hints for K-fold dataset creation and usage\n",
        "\n"
      ]
    },
    {
      "cell_type": "markdown",
      "metadata": {
        "id": "4r2HcoQtR7Xd"
      },
      "source": [
        "### Steps for k-fold validation\n",
        "\n",
        "1. Shuffle the Training data( Be sure to shuffle labels also accordingly)\n",
        "2. Create folds :\n",
        "   a) Fold size calculation\n",
        "   b) Generate chunk of indices\n",
        "3.  Error_list=[]\n",
        "    \n",
        "    For each hyperparameter:\n",
        "        For Each fold \"i\":\n",
        "            a) Use fold \"i\" for validation\n",
        "            b) Combine other folds to get training data\n",
        "            c) Calculate validation error\n",
        "    Append averaged validation error to Error_list\n",
        "    \n",
        "        "
      ]
    },
    {
      "cell_type": "markdown",
      "metadata": {
        "id": "dGxH53DNR7Xe"
      },
      "source": [
        "### 1. Shuffling\n",
        "\n",
        "  np.random.permutation(x):\n",
        "\n",
        "  Randomly permute a sequence, or return a permuted range."
      ]
    },
    {
      "cell_type": "code",
      "execution_count": null,
      "metadata": {
        "id": "XO7SJMeI7hyb"
      },
      "outputs": [],
      "source": [
        "np.random.permutation(10) #### Can be used to generate random indices\n",
        "np.random.shuffle()\n",
        "np.split()"
      ]
    },
    {
      "cell_type": "markdown",
      "metadata": {
        "id": "8wSpxJIb72yL"
      },
      "source": [
        "\n",
        "\n",
        "### 2.  training and validation set creation based on the folds\n",
        "    \n",
        "    numpy.concatenate((a1, a2, ...), axis=0, out=None, dtype=None, casting=\"same_kind\")\n",
        "\n",
        "  Join a sequence of arrays along an existing axis."
      ]
    }
  ],
  "metadata": {
    "colab": {
      "provenance": []
    },
    "kernelspec": {
      "display_name": "life",
      "language": "python",
      "name": "python3"
    },
    "language_info": {
      "codemirror_mode": {
        "name": "ipython",
        "version": 3
      },
      "file_extension": ".py",
      "mimetype": "text/x-python",
      "name": "python",
      "nbconvert_exporter": "python",
      "pygments_lexer": "ipython3",
      "version": "3.12.8"
    }
  },
  "nbformat": 4,
  "nbformat_minor": 0
}
