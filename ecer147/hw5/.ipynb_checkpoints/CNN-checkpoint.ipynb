{
 "cells": [
  {
   "cell_type": "markdown",
   "metadata": {},
   "source": [
    "# Convolutional neural networks\n",
    "\n",
    "In this notebook, we'll put together our convolutional layers to implement a 3-layer CNN.  Then, we'll ask you to implement a CNN that can achieve > 65% validation error on CIFAR-10.\n",
    "\n",
    "CS231n has built a solid API for building these modular frameworks and training them, and we will use their very well implemented framework as opposed to \"reinventing the wheel.\"  This includes using their Solver, various utility functions, their layer structure, and their implementation of fast CNN layers.  This also includes nndl.fc_net, nndl.layers, and nndl.layer_utils.  As in prior assignments, we thank Serena Yeung & Justin Johnson for permission to use code written for the CS 231n class (cs231n.stanford.edu).  \n",
    "\n",
    "\n",
    "If you have not completed the Spatial BatchNorm Notebook, please see the following description from that notebook:\n",
    "\n",
    "Please copy and paste your prior implemented code from HW #4 to start this assignment.  If you did not correctly implement the layers in HW #4, you may collaborate with a classmate to use their layer implementations from HW #4.  You may also visit TA or Prof OH to correct your implementation.  \n",
    "\n",
    "You'll want to copy and paste from HW #4:\n",
    "    - layers.py for your FC network layers, as well as batchnorm and dropout.\n",
    "    - layer_utils.py for your combined FC network layers.\n",
    "    - optim.py for your optimizers.\n",
    "\n",
    "Be sure to place these in the `nndl/` directory so they're imported correctly.  Note, as announced in class, we will not be releasing our solutions."
   ]
  },
  {
   "cell_type": "code",
   "execution_count": 29,
   "metadata": {},
   "outputs": [
    {
     "name": "stdout",
     "output_type": "stream",
     "text": [
      "The autoreload extension is already loaded. To reload it, use:\n",
      "  %reload_ext autoreload\n"
     ]
    }
   ],
   "source": [
    "# As usual, a bit of setup\n",
    "\n",
    "import numpy as np\n",
    "import matplotlib.pyplot as plt\n",
    "from nndl.cnn import *\n",
    "from cs231n.data_utils import get_CIFAR10_data\n",
    "from cs231n.gradient_check import eval_numerical_gradient_array, eval_numerical_gradient\n",
    "from nndl.layers import *\n",
    "from nndl.conv_layers import *\n",
    "from cs231n.fast_layers import *\n",
    "from cs231n.solver import Solver\n",
    "\n",
    "%matplotlib inline\n",
    "plt.rcParams['figure.figsize'] = (10.0, 8.0) # set default size of plots\n",
    "plt.rcParams['image.interpolation'] = 'nearest'\n",
    "plt.rcParams['image.cmap'] = 'gray'\n",
    "\n",
    "# for auto-reloading external modules\n",
    "# see http://stackoverflow.com/questions/1907993/autoreload-of-modules-in-ipython\n",
    "%load_ext autoreload\n",
    "%autoreload 2\n",
    "\n",
    "def rel_error(x, y):\n",
    "  \"\"\" returns relative error \"\"\"\n",
    "  return np.max(np.abs(x - y) / (np.maximum(1e-8, np.abs(x) + np.abs(y))))"
   ]
  },
  {
   "cell_type": "code",
   "execution_count": 2,
   "metadata": {},
   "outputs": [
    {
     "name": "stdout",
     "output_type": "stream",
     "text": [
      "X_train: (49000, 3, 32, 32) \n",
      "y_train: (49000,) \n",
      "X_val: (1000, 3, 32, 32) \n",
      "y_val: (1000,) \n",
      "X_test: (1000, 3, 32, 32) \n",
      "y_test: (1000,) \n"
     ]
    }
   ],
   "source": [
    "# Load the (preprocessed) CIFAR10 data.\n",
    "\n",
    "data = get_CIFAR10_data()\n",
    "for k in data.keys():\n",
    "  print('{}: {} '.format(k, data[k].shape))"
   ]
  },
  {
   "cell_type": "markdown",
   "metadata": {},
   "source": [
    "## Three layer CNN\n",
    "\n",
    "In this notebook, you will implement a three layer CNN.  The `ThreeLayerConvNet` class is in `nndl/cnn.py`.  You'll need to modify that code for this section, including the initialization, as well as the calculation of the loss and gradients.  You should be able to use the building blocks you have either earlier coded or that we have provided.  Be sure to use the fast layers.\n",
    "\n",
    "The architecture of this CNN will be:\n",
    "\n",
    "conv - relu - 2x2 max pool - affine - relu - affine - softmax\n",
    "\n",
    "We won't use batchnorm yet.  You've also done enough of these to know how to debug; use the cells below.\n",
    "\n",
    "Note: As we are implementing several layers CNN networks. The gradient error can be expected for the `eval_numerical_gradient()` function. If your `W1 max relative error` and `W2 max relative error` are around or below 0.01, they should be acceptable. Other errors should be less than 1e-5. "
   ]
  },
  {
   "cell_type": "code",
   "execution_count": 3,
   "metadata": {},
   "outputs": [
    {
     "name": "stdout",
     "output_type": "stream",
     "text": [
      "W1 max relative error: 0.003952088878176451\n",
      "W2 max relative error: 0.005958903318348883\n",
      "W3 max relative error: 5.9021012821591556e-05\n",
      "b1 max relative error: 0.00010109011319780005\n",
      "b2 max relative error: 6.979833005413998e-07\n",
      "b3 max relative error: 2.0600241033664362e-09\n"
     ]
    }
   ],
   "source": [
    "num_inputs = 2\n",
    "input_dim = (3, 16, 16)\n",
    "reg = 0.0\n",
    "num_classes = 10\n",
    "X = np.random.randn(num_inputs, *input_dim)\n",
    "y = np.random.randint(num_classes, size=num_inputs)\n",
    "\n",
    "model = ThreeLayerConvNet(num_filters=3, filter_size=3,\n",
    "                          input_dim=input_dim, hidden_dim=7,\n",
    "                          dtype=np.float64)\n",
    "loss, grads = model.loss(X, y)\n",
    "for param_name in sorted(grads):\n",
    "    f = lambda _: model.loss(X, y)[0]\n",
    "    param_grad_num = eval_numerical_gradient(f, model.params[param_name], verbose=False, h=1e-6)\n",
    "    e = rel_error(param_grad_num, grads[param_name])\n",
    "    print('{} max relative error: {}'.format(param_name, rel_error(param_grad_num, grads[param_name])))"
   ]
  },
  {
   "cell_type": "markdown",
   "metadata": {},
   "source": [
    "### Overfit small dataset\n",
    "\n",
    "To check your CNN implementation, let's overfit a small dataset."
   ]
  },
  {
   "cell_type": "code",
   "execution_count": 4,
   "metadata": {},
   "outputs": [
    {
     "name": "stdout",
     "output_type": "stream",
     "text": [
      "(Iteration 1 / 20) loss: 2.186315\n",
      "(Epoch 0 / 10) train acc: 0.190000; val_acc: 0.142000\n",
      "(Iteration 2 / 20) loss: 3.795878\n",
      "(Epoch 1 / 10) train acc: 0.190000; val_acc: 0.101000\n",
      "(Iteration 3 / 20) loss: 3.442416\n",
      "(Iteration 4 / 20) loss: 2.369932\n",
      "(Epoch 2 / 10) train acc: 0.260000; val_acc: 0.156000\n",
      "(Iteration 5 / 20) loss: 3.490134\n",
      "(Iteration 6 / 20) loss: 2.707186\n",
      "(Epoch 3 / 10) train acc: 0.410000; val_acc: 0.197000\n",
      "(Iteration 7 / 20) loss: 2.199309\n",
      "(Iteration 8 / 20) loss: 1.925188\n",
      "(Epoch 4 / 10) train acc: 0.550000; val_acc: 0.214000\n",
      "(Iteration 9 / 20) loss: 1.744322\n",
      "(Iteration 10 / 20) loss: 1.560810\n",
      "(Epoch 5 / 10) train acc: 0.490000; val_acc: 0.199000\n",
      "(Iteration 11 / 20) loss: 1.708585\n",
      "(Iteration 12 / 20) loss: 1.352916\n",
      "(Epoch 6 / 10) train acc: 0.570000; val_acc: 0.193000\n",
      "(Iteration 13 / 20) loss: 1.184118\n",
      "(Iteration 14 / 20) loss: 1.213082\n",
      "(Epoch 7 / 10) train acc: 0.640000; val_acc: 0.188000\n",
      "(Iteration 15 / 20) loss: 0.954906\n",
      "(Iteration 16 / 20) loss: 0.910048\n",
      "(Epoch 8 / 10) train acc: 0.640000; val_acc: 0.242000\n",
      "(Iteration 17 / 20) loss: 0.842052\n",
      "(Iteration 18 / 20) loss: 0.783510\n",
      "(Epoch 9 / 10) train acc: 0.730000; val_acc: 0.254000\n",
      "(Iteration 19 / 20) loss: 0.815151\n",
      "(Iteration 20 / 20) loss: 0.509903\n",
      "(Epoch 10 / 10) train acc: 0.820000; val_acc: 0.232000\n"
     ]
    }
   ],
   "source": [
    "num_train = 100\n",
    "small_data = {\n",
    "  'X_train': data['X_train'][:num_train],\n",
    "  'y_train': data['y_train'][:num_train],\n",
    "  'X_val': data['X_val'],\n",
    "  'y_val': data['y_val'],\n",
    "}\n",
    "\n",
    "model = ThreeLayerConvNet(weight_scale=1e-2)\n",
    "\n",
    "solver = Solver(model, small_data,\n",
    "                num_epochs=10, batch_size=50,\n",
    "                update_rule='adam',\n",
    "                optim_config={\n",
    "                  'learning_rate': 1e-3,\n",
    "                },\n",
    "                verbose=True, print_every=1)\n",
    "solver.train()"
   ]
  },
  {
   "cell_type": "code",
   "execution_count": 5,
   "metadata": {},
   "outputs": [
    {
     "data": {
      "image/png": "[encoded data removed]",
      "text/plain": [
       "<Figure size 1000x800 with 2 Axes>"
      ]
     },
     "metadata": {},
     "output_type": "display_data"
    }
   ],
   "source": [
    "plt.subplot(2, 1, 1)\n",
    "plt.plot(solver.loss_history, 'o')\n",
    "plt.xlabel('iteration')\n",
    "plt.ylabel('loss')\n",
    "\n",
    "plt.subplot(2, 1, 2)\n",
    "plt.plot(solver.train_acc_history, '-o')\n",
    "plt.plot(solver.val_acc_history, '-o')\n",
    "plt.legend(['train', 'val'], loc='upper left')\n",
    "plt.xlabel('epoch')\n",
    "plt.ylabel('accuracy')\n",
    "plt.show()"
   ]
  },
  {
   "cell_type": "markdown",
   "metadata": {},
   "source": [
    "## Train the network\n",
    "\n",
    "Now we train the 3 layer CNN on CIFAR-10 and assess its accuracy."
   ]
  },
  {
   "cell_type": "code",
   "execution_count": 6,
   "metadata": {
    "scrolled": false
   },
   "outputs": [
    {
     "name": "stdout",
     "output_type": "stream",
     "text": [
      "(Iteration 1 / 980) loss: 2.304752\n",
      "(Epoch 0 / 1) train acc: 0.098000; val_acc: 0.119000\n",
      "(Iteration 21 / 980) loss: 1.954977\n",
      "(Iteration 41 / 980) loss: 2.136315\n",
      "(Iteration 61 / 980) loss: 2.180763\n",
      "(Iteration 81 / 980) loss: 1.859730\n",
      "(Iteration 101 / 980) loss: 2.031286\n",
      "(Iteration 121 / 980) loss: 1.766703\n",
      "(Iteration 141 / 980) loss: 1.876080\n",
      "(Iteration 161 / 980) loss: 1.854538\n",
      "(Iteration 181 / 980) loss: 1.955776\n",
      "(Iteration 201 / 980) loss: 1.797902\n",
      "(Iteration 221 / 980) loss: 1.813290\n",
      "(Iteration 241 / 980) loss: 1.870747\n",
      "(Iteration 261 / 980) loss: 1.519322\n",
      "(Iteration 281 / 980) loss: 1.812324\n",
      "(Iteration 301 / 980) loss: 1.765566\n",
      "(Iteration 321 / 980) loss: 1.746831\n",
      "(Iteration 341 / 980) loss: 1.592874\n",
      "(Iteration 361 / 980) loss: 1.839814\n",
      "(Iteration 381 / 980) loss: 1.544268\n",
      "(Iteration 401 / 980) loss: 1.570839\n",
      "(Iteration 421 / 980) loss: 1.645936\n",
      "(Iteration 441 / 980) loss: 1.582152\n",
      "(Iteration 461 / 980) loss: 1.770059\n",
      "(Iteration 481 / 980) loss: 1.425766\n",
      "(Iteration 501 / 980) loss: 1.780701\n",
      "(Iteration 521 / 980) loss: 1.440863\n",
      "(Iteration 541 / 980) loss: 1.440488\n",
      "(Iteration 561 / 980) loss: 1.499588\n",
      "(Iteration 581 / 980) loss: 1.498055\n",
      "(Iteration 601 / 980) loss: 1.430078\n",
      "(Iteration 621 / 980) loss: 1.587455\n",
      "(Iteration 641 / 980) loss: 1.529216\n",
      "(Iteration 661 / 980) loss: 1.722732\n",
      "(Iteration 681 / 980) loss: 1.842631\n",
      "(Iteration 701 / 980) loss: 1.749125\n",
      "(Iteration 721 / 980) loss: 1.784048\n",
      "(Iteration 741 / 980) loss: 1.495787\n",
      "(Iteration 761 / 980) loss: 1.679840\n",
      "(Iteration 781 / 980) loss: 1.807961\n",
      "(Iteration 801 / 980) loss: 1.467264\n",
      "(Iteration 821 / 980) loss: 1.760864\n",
      "(Iteration 841 / 980) loss: 1.946186\n",
      "(Iteration 861 / 980) loss: 1.563008\n",
      "(Iteration 881 / 980) loss: 1.373161\n",
      "(Iteration 901 / 980) loss: 1.375527\n",
      "(Iteration 921 / 980) loss: 1.636452\n",
      "(Iteration 941 / 980) loss: 1.281915\n",
      "(Iteration 961 / 980) loss: 1.593260\n",
      "(Epoch 1 / 1) train acc: 0.498000; val_acc: 0.465000\n"
     ]
    }
   ],
   "source": [
    "model = ThreeLayerConvNet(weight_scale=0.001, hidden_dim=500, reg=0.001)\n",
    "\n",
    "solver = Solver(model, data,\n",
    "                num_epochs=1, batch_size=50,\n",
    "                update_rule='adam',\n",
    "                optim_config={\n",
    "                  'learning_rate': 1e-3,\n",
    "                },\n",
    "                verbose=True, print_every=20)\n",
    "solver.train()"
   ]
  },
  {
   "cell_type": "markdown",
   "metadata": {},
   "source": [
    "# Get > 65% validation accuracy on CIFAR-10.\n",
    "\n",
    "In the last part of the assignment, we'll now ask you to train a CNN to get better than 65% validation accuracy on CIFAR-10.\n",
    "\n",
    "### Things you should try:\n",
    "- Filter size: Above we used 7x7; but VGGNet and onwards showed stacks of 3x3 filters are good.  \n",
    "- Number of filters: Above we used 32 filters. Do more or fewer do better?\n",
    "- Batch normalization: Try adding spatial batch normalization after convolution layers and vanilla batch normalization aafter affine layers. Do your networks train faster?\n",
    "- Network architecture: Can a deeper CNN do better?  Consider these architectures:\n",
    "    - [conv-relu-pool]xN - conv - relu - [affine]xM - [softmax or SVM]\n",
    "    - [conv-relu-pool]XN - [affine]XM - [softmax or SVM]\n",
    "    - [conv-relu-conv-relu-pool]xN - [affine]xM - [softmax or SVM]\n",
    "\n",
    "### Tips for training\n",
    "For each network architecture that you try, you should tune the learning rate and regularization strength. When doing this there are a couple important things to keep in mind:\n",
    "\n",
    "- If the parameters are working well, you should see improvement within a few hundred iterations\n",
    "- Remember the coarse-to-fine approach for hyperparameter tuning: start by testing a large range of hyperparameters for just a few training iterations to find the combinations of parameters that are working at all.\n",
    "- Once you have found some sets of parameters that seem to work, search more finely around these parameters. You may need to train for more epochs."
   ]
  },
  {
   "cell_type": "code",
   "execution_count": 30,
   "metadata": {
    "scrolled": false
   },
   "outputs": [
    {
     "name": "stdout",
     "output_type": "stream",
     "text": [
      "(64, 3, 32, 32)\n",
      "(64, 64, 16, 16)\n",
      "(16384, 64)\n",
      "(16384, 64)\n",
      "(64, 64, 16, 16)\n",
      "(64, 128, 8, 8)\n",
      "(4096, 128)\n",
      "(4096, 128)\n",
      "(64, 128, 8, 8)\n",
      "(64, 256, 4, 4)\n",
      "(1024, 256)\n",
      "(1024, 256)\n",
      "(64, 256, 4, 4)\n"
     ]
    },
    {
     "ename": "ValueError",
     "evalue": "cannot reshape array of size 64000 into shape (2,500)",
     "output_type": "error",
     "traceback": [
      "\u001b[0;31m---------------------------------------------------------------------------\u001b[0m",
      "\u001b[0;31mValueError\u001b[0m                                Traceback (most recent call last)",
      "Cell \u001b[0;32mIn[30], line 17\u001b[0m\n\u001b[1;32m     10\u001b[0m solver \u001b[38;5;241m=\u001b[39m Solver(model, data,\n\u001b[1;32m     11\u001b[0m                 num_epochs\u001b[38;5;241m=\u001b[39m\u001b[38;5;241m10\u001b[39m, batch_size\u001b[38;5;241m=\u001b[39m\u001b[38;5;241m64\u001b[39m,\n\u001b[1;32m     12\u001b[0m                 update_rule\u001b[38;5;241m=\u001b[39m\u001b[38;5;124m'\u001b[39m\u001b[38;5;124madam\u001b[39m\u001b[38;5;124m'\u001b[39m,\n\u001b[1;32m     13\u001b[0m                 optim_config\u001b[38;5;241m=\u001b[39m{\u001b[38;5;124m'\u001b[39m\u001b[38;5;124mlearning_rate\u001b[39m\u001b[38;5;124m'\u001b[39m: \u001b[38;5;241m1e-3\u001b[39m},\n\u001b[1;32m     14\u001b[0m                 verbose\u001b[38;5;241m=\u001b[39m\u001b[38;5;28;01mTrue\u001b[39;00m, print_every\u001b[38;5;241m=\u001b[39m\u001b[38;5;241m20\u001b[39m)\n\u001b[1;32m     16\u001b[0m \u001b[38;5;66;03m# Train the model\u001b[39;00m\n\u001b[0;32m---> 17\u001b[0m \u001b[43msolver\u001b[49m\u001b[38;5;241;43m.\u001b[39;49m\u001b[43mtrain\u001b[49m\u001b[43m(\u001b[49m\u001b[43m)\u001b[49m\n\u001b[1;32m     19\u001b[0m \u001b[38;5;66;03m# ================================================================ #\u001b[39;00m\n\u001b[1;32m     20\u001b[0m \u001b[38;5;66;03m# END YOUR CODE HERE\u001b[39;00m\n\u001b[1;32m     21\u001b[0m \u001b[38;5;66;03m# ================================================================ #\u001b[39;00m\n",
      "File \u001b[0;32m~/MachineLearning/ucla/ecengr147/hw5/hw5/cs231n/solver.py:265\u001b[0m, in \u001b[0;36mSolver.train\u001b[0;34m(self)\u001b[0m\n\u001b[1;32m    262\u001b[0m num_iterations \u001b[38;5;241m=\u001b[39m \u001b[38;5;28mself\u001b[39m\u001b[38;5;241m.\u001b[39mnum_epochs \u001b[38;5;241m*\u001b[39m iterations_per_epoch\n\u001b[1;32m    264\u001b[0m \u001b[38;5;28;01mfor\u001b[39;00m t \u001b[38;5;129;01min\u001b[39;00m \u001b[38;5;28mrange\u001b[39m(num_iterations):\n\u001b[0;32m--> 265\u001b[0m     \u001b[38;5;28;43mself\u001b[39;49m\u001b[38;5;241;43m.\u001b[39;49m\u001b[43m_step\u001b[49m\u001b[43m(\u001b[49m\u001b[43m)\u001b[49m\n\u001b[1;32m    267\u001b[0m     \u001b[38;5;66;03m# Maybe print training loss\u001b[39;00m\n\u001b[1;32m    268\u001b[0m     \u001b[38;5;28;01mif\u001b[39;00m \u001b[38;5;28mself\u001b[39m\u001b[38;5;241m.\u001b[39mverbose \u001b[38;5;129;01mand\u001b[39;00m t \u001b[38;5;241m%\u001b[39m \u001b[38;5;28mself\u001b[39m\u001b[38;5;241m.\u001b[39mprint_every \u001b[38;5;241m==\u001b[39m \u001b[38;5;241m0\u001b[39m:\n",
      "File \u001b[0;32m~/MachineLearning/ucla/ecengr147/hw5/hw5/cs231n/solver.py:180\u001b[0m, in \u001b[0;36mSolver._step\u001b[0;34m(self)\u001b[0m\n\u001b[1;32m    177\u001b[0m y_batch \u001b[38;5;241m=\u001b[39m \u001b[38;5;28mself\u001b[39m\u001b[38;5;241m.\u001b[39my_train[batch_mask]\n\u001b[1;32m    179\u001b[0m \u001b[38;5;66;03m# Compute loss and gradient\u001b[39;00m\n\u001b[0;32m--> 180\u001b[0m loss, grads \u001b[38;5;241m=\u001b[39m \u001b[38;5;28;43mself\u001b[39;49m\u001b[38;5;241;43m.\u001b[39;49m\u001b[43mmodel\u001b[49m\u001b[38;5;241;43m.\u001b[39;49m\u001b[43mloss\u001b[49m\u001b[43m(\u001b[49m\u001b[43mX_batch\u001b[49m\u001b[43m,\u001b[49m\u001b[43m \u001b[49m\u001b[43my_batch\u001b[49m\u001b[43m)\u001b[49m\n\u001b[1;32m    181\u001b[0m \u001b[38;5;28mself\u001b[39m\u001b[38;5;241m.\u001b[39mloss_history\u001b[38;5;241m.\u001b[39mappend(loss)\n\u001b[1;32m    183\u001b[0m \u001b[38;5;66;03m# Perform a parameter update\u001b[39;00m\n",
      "File \u001b[0;32m~/MachineLearning/ucla/ecengr147/hw5/hw5/nndl/cnn.py:290\u001b[0m, in \u001b[0;36mNnForLast.loss\u001b[0;34m(self, X, y)\u001b[0m\n\u001b[1;32m    288\u001b[0m \u001b[38;5;28;01mdef\u001b[39;00m \u001b[38;5;21mloss\u001b[39m(\u001b[38;5;28mself\u001b[39m, X, y\u001b[38;5;241m=\u001b[39m\u001b[38;5;28;01mNone\u001b[39;00m):\n\u001b[0;32m--> 290\u001b[0m   scores, cache \u001b[38;5;241m=\u001b[39m \u001b[38;5;28;43mself\u001b[39;49m\u001b[38;5;241;43m.\u001b[39;49m\u001b[43mforward\u001b[49m\u001b[43m(\u001b[49m\u001b[43mX\u001b[49m\u001b[43m)\u001b[49m\n\u001b[1;32m    293\u001b[0m   \u001b[38;5;28;01mif\u001b[39;00m y \u001b[38;5;129;01mis\u001b[39;00m \u001b[38;5;28;01mNone\u001b[39;00m:\n\u001b[1;32m    294\u001b[0m     \u001b[38;5;28;01mreturn\u001b[39;00m scores\n",
      "File \u001b[0;32m~/MachineLearning/ucla/ecengr147/hw5/hw5/nndl/cnn.py:255\u001b[0m, in \u001b[0;36mNnForLast.forward\u001b[0;34m(self, X)\u001b[0m\n\u001b[1;32m    251\u001b[0m out, cache[\u001b[38;5;124m'\u001b[39m\u001b[38;5;124mfc1\u001b[39m\u001b[38;5;124m'\u001b[39m] \u001b[38;5;241m=\u001b[39m affine_forward(out, \u001b[38;5;28mself\u001b[39m\u001b[38;5;241m.\u001b[39mparams[\u001b[38;5;124m'\u001b[39m\u001b[38;5;124mW4\u001b[39m\u001b[38;5;124m'\u001b[39m], \u001b[38;5;28mself\u001b[39m\u001b[38;5;241m.\u001b[39mparams[\u001b[38;5;124m'\u001b[39m\u001b[38;5;124mb4\u001b[39m\u001b[38;5;124m'\u001b[39m])\n\u001b[1;32m    252\u001b[0m out \u001b[38;5;241m=\u001b[39m relu_forward(out)\n\u001b[0;32m--> 255\u001b[0m out, cache[\u001b[38;5;124m'\u001b[39m\u001b[38;5;124mfc2\u001b[39m\u001b[38;5;124m'\u001b[39m] \u001b[38;5;241m=\u001b[39m \u001b[43maffine_forward\u001b[49m\u001b[43m(\u001b[49m\u001b[43mout\u001b[49m\u001b[43m,\u001b[49m\u001b[43m \u001b[49m\u001b[38;5;28;43mself\u001b[39;49m\u001b[38;5;241;43m.\u001b[39;49m\u001b[43mparams\u001b[49m\u001b[43m[\u001b[49m\u001b[38;5;124;43m'\u001b[39;49m\u001b[38;5;124;43mW5\u001b[39;49m\u001b[38;5;124;43m'\u001b[39;49m\u001b[43m]\u001b[49m\u001b[43m,\u001b[49m\u001b[43m \u001b[49m\u001b[38;5;28;43mself\u001b[39;49m\u001b[38;5;241;43m.\u001b[39;49m\u001b[43mparams\u001b[49m\u001b[43m[\u001b[49m\u001b[38;5;124;43m'\u001b[39;49m\u001b[38;5;124;43mb5\u001b[39;49m\u001b[38;5;124;43m'\u001b[39;49m\u001b[43m]\u001b[49m\u001b[43m)\u001b[49m\n\u001b[1;32m    257\u001b[0m \u001b[38;5;28;01mreturn\u001b[39;00m out, cache\n",
      "File \u001b[0;32m~/MachineLearning/ucla/ecengr147/hw5/hw5/nndl/layers.py:42\u001b[0m, in \u001b[0;36maffine_forward\u001b[0;34m(x, w, b)\u001b[0m\n\u001b[1;32m     40\u001b[0m n \u001b[38;5;241m=\u001b[39m x\u001b[38;5;241m.\u001b[39mshape[\u001b[38;5;241m0\u001b[39m] \n\u001b[1;32m     41\u001b[0m d,m \u001b[38;5;241m=\u001b[39m w\u001b[38;5;241m.\u001b[39mshape\n\u001b[0;32m---> 42\u001b[0m xx \u001b[38;5;241m=\u001b[39m \u001b[43mx\u001b[49m\u001b[38;5;241;43m.\u001b[39;49m\u001b[43mreshape\u001b[49m\u001b[43m(\u001b[49m\u001b[43mn\u001b[49m\u001b[43m,\u001b[49m\u001b[43m \u001b[49m\u001b[43md\u001b[49m\u001b[43m)\u001b[49m\n\u001b[1;32m     43\u001b[0m out \u001b[38;5;241m=\u001b[39m np\u001b[38;5;241m.\u001b[39mdot(xx, w) \u001b[38;5;241m+\u001b[39m b\n\u001b[1;32m     46\u001b[0m \u001b[38;5;66;03m# ================================================================ #\u001b[39;00m\n\u001b[1;32m     47\u001b[0m \u001b[38;5;66;03m# END YOUR CODE HERE\u001b[39;00m\n\u001b[1;32m     48\u001b[0m \u001b[38;5;66;03m# ================================================================ #\u001b[39;00m\n",
      "\u001b[0;31mValueError\u001b[0m: cannot reshape array of size 64000 into shape (2,500)"
     ]
    }
   ],
   "source": [
    "# ================================================================ #\n",
    "# YOUR CODE HERE:\n",
    "#   Implement a CNN to achieve greater than 65% validation accuracy\n",
    "#   on CIFAR-10.\n",
    "# ================================================================ #\n",
    "model = NnForLast(input_dim=(3, 32, 32), num_filters=64, filter_size=3,\n",
    "                hidden_dim=500, num_classes=10, weight_scale=1e-3, reg=0.001, use_batchnorm=True)\n",
    "\n",
    "# Set up solver\n",
    "solver = Solver(model, data,\n",
    "                num_epochs=10, batch_size=64,\n",
    "                update_rule='adam',\n",
    "                optim_config={'learning_rate': 1e-3},\n",
    "                verbose=True, print_every=20)\n",
    "\n",
    "# Train the model\n",
    "solver.train()\n",
    "\n",
    "# ================================================================ #\n",
    "# END YOUR CODE HERE\n",
    "# ================================================================ #\n"
   ]
  },
  {
   "cell_type": "code",
   "execution_count": null,
   "metadata": {},
   "outputs": [],
   "source": []
  }
 ],
 "metadata": {
  "kernelspec": {
   "display_name": "147",
   "language": "python",
   "name": "python3"
  },
  "language_info": {
   "codemirror_mode": {
    "name": "ipython",
    "version": 3
   },
   "file_extension": ".py",
   "mimetype": "text/x-python",
   "name": "python",
   "nbconvert_exporter": "python",
   "pygments_lexer": "ipython3",
   "version": "3.10.16"
  }
 },
 "nbformat": 4,
 "nbformat_minor": 2
}
